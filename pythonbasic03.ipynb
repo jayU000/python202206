{
  "nbformat": 4,
  "nbformat_minor": 0,
  "metadata": {
    "colab": {
      "name": "pythonbasic03.ipynb",
      "provenance": [],
      "collapsed_sections": [],
      "authorship_tag": "ABX9TyP644f6fl7qjNGpUq8rsaL/",
      "include_colab_link": true
    },
    "kernelspec": {
      "name": "python3",
      "display_name": "Python 3"
    },
    "language_info": {
      "name": "python"
    }
  },
  "cells": [
    {
      "cell_type": "markdown",
      "metadata": {
        "id": "view-in-github",
        "colab_type": "text"
      },
      "source": [
        "<a href=\"https://colab.research.google.com/github/jayU000/python202206/blob/main/pythonbasic03.ipynb\" target=\"_parent\"><img src=\"https://colab.research.google.com/assets/colab-badge.svg\" alt=\"Open In Colab\"/></a>"
      ]
    },
    {
      "cell_type": "code",
      "execution_count": null,
      "metadata": {
        "id": "iQ4R_5L_-5yd"
      },
      "outputs": [],
      "source": [
        "# 반복문\n",
        "\n",
        "# while\n",
        "\n",
        "\n",
        "\n",
        "\n",
        "\n"
      ]
    },
    {
      "cell_type": "code",
      "source": [
        "n = int(input())\n",
        "\n",
        "for i in range(n) :\n",
        "  print('*'*(i+1))\n",
        "\n"
      ],
      "metadata": {
        "colab": {
          "base_uri": "https://localhost:8080/"
        },
        "id": "J6f8D1Z2ake6",
        "outputId": "2b954eff-5628-40c2-9e20-d60503a8d495"
      },
      "execution_count": null,
      "outputs": [
        {
          "output_type": "stream",
          "name": "stdout",
          "text": [
            "5\n",
            "*\n",
            "**\n",
            "***\n",
            "****\n",
            "*****\n"
          ]
        }
      ]
    },
    {
      "cell_type": "code",
      "source": [
        "n = int(input())\n",
        "\n",
        "for i in range(n) :\n",
        "  print(' '*(n-i), '*'*(2*i+1))"
      ],
      "metadata": {
        "colab": {
          "base_uri": "https://localhost:8080/"
        },
        "id": "3KawyRDfbBEP",
        "outputId": "5a516b85-d00b-482f-ae79-c2f6bb2adee2"
      },
      "execution_count": null,
      "outputs": [
        {
          "output_type": "stream",
          "name": "stdout",
          "text": [
            "3\n",
            "    *\n",
            "   ***\n",
            "  *****\n"
          ]
        }
      ]
    },
    {
      "cell_type": "code",
      "source": [
        "# 함수 (클래스 밖에서는 함수, 클래스 안에서는 메서드)\n",
        "\n",
        "# 바나나  -> 믹서기 -> 바나나 주스\n",
        "# 사과    ->        -> 사과 주스\n",
        "\n",
        "# def 함수이름 (매개변수) :\n",
        "#   수행할 문장\n",
        "#   수행할 문장\n",
        "\n",
        "# 1. 입력이 있고 리턴이 있는 함수\n",
        "def add (a, b) :\n",
        "  return a+b\n",
        "print(add(3,4))\n",
        "\n",
        "# 2. 입력이 없고 리턴도 있는 함수\n",
        "def a() :\n",
        "  print('입력이 없고 리턴도 없는 함수')\n",
        "a()\n",
        "\n",
        "# 3. 입력이 있고 리턴도 없는 함수\n",
        "def b(name) :\n",
        "  print(name, '님을 환영합니다.')\n",
        "b('어스틴')\n",
        "\n",
        "# 4. 입력이 없고 리턴은 있는 함수\n",
        "def c() :\n",
        "  return 'Hi'\n",
        "c()\n",
        "\n",
        "\n",
        "\n"
      ],
      "metadata": {
        "colab": {
          "base_uri": "https://localhost:8080/",
          "height": 90
        },
        "id": "bAyfC3PBv4Kc",
        "outputId": "2367344b-ce28-4573-c807-7c22e15a6345"
      },
      "execution_count": 11,
      "outputs": [
        {
          "output_type": "stream",
          "name": "stdout",
          "text": [
            "7\n",
            "입력이 없고 리턴도 없는 함수\n",
            "어스틴 님을 환영합니다.\n"
          ]
        },
        {
          "output_type": "execute_result",
          "data": {
            "text/plain": [
              "'Hi'"
            ],
            "application/vnd.google.colaboratory.intrinsic+json": {
              "type": "string"
            }
          },
          "metadata": {},
          "execution_count": 11
        }
      ]
    },
    {
      "cell_type": "code",
      "source": [
        "def add (a, b) :\n",
        "  return a+b\n",
        "print(add(3,4))\n",
        "\n",
        "def add (a, b, c) :\n",
        "  return a+b+c\n",
        "print(add(3,4,5))\n",
        "\n",
        "def add (a, b, c, d) :\n",
        "  return a+b+c+d\n",
        "print(add(3,4,5,6))\n",
        "\n",
        "\n",
        "\n",
        "# >>> 코드를 줄이는 방법\n",
        "# 입력된 값들을 모두 전부 모아서 튜플로 만들어 준다. >> 가변 매개변수 사용\n",
        "# args 변수명은 변해도 된다. 하지만 *는 동일하게 작성해준다.\n",
        "def add_many(*args) :\n",
        "  sum = 0\n",
        "  for i in args :\n",
        "    sum += i\n",
        "  return sum\n",
        "\n",
        "print(add_many(2,3))\n",
        "print(add_many(2,3,4))\n",
        "print(add_many(2,3,5,6,6,7,7,8,8,10))\n",
        "\n",
        "\n",
        "\n",
        "# 변수의 영향 범위 \n",
        "\n",
        "# 지역변수(***)와 전역변수\n",
        "\n",
        "\n",
        "a = 1     # a 변수가 함수 밖에서 선언되었다.\n",
        "\n",
        "def vartest(a) :    # 함수 안에서의 a는 함수 밖에서의 a와는 완전히 다른 변수다. \n",
        "  a += 1\n",
        "  # return a\n",
        "\n",
        "print(vartest(a))   # ?   None이 나온 이유는 return이 없기 때문에 가지고 나오는 값이 없다.\n",
        "print(a)            # 1 : 전역변수값 a = 1  이 출력되었다.\n",
        "\n",
        "\n",
        "\n",
        "a = 1     # a 변수가 함수 밖에서 선언되었다.\n",
        "\n",
        "def vartest(a) :    # 함수 안에서의 a는 함수 밖에서의 a와는 완전히 다른 변수다. \n",
        "  a += 1\n",
        "  return a\n",
        "\n",
        "print(vartest(a))   # 2   \n",
        "print(a)            # 1 : 전역변수값 a = 1  이 출력되었다.\n",
        "\n"
      ],
      "metadata": {
        "colab": {
          "base_uri": "https://localhost:8080/"
        },
        "id": "CuhVhNyRv4Mr",
        "outputId": "0d3f706f-1df1-4c8f-b3fa-3568ac260dbf"
      },
      "execution_count": 16,
      "outputs": [
        {
          "output_type": "stream",
          "name": "stdout",
          "text": [
            "7\n",
            "12\n",
            "18\n",
            "5\n",
            "9\n",
            "62\n",
            "None\n",
            "1\n",
            "2\n",
            "1\n"
          ]
        }
      ]
    },
    {
      "cell_type": "code",
      "source": [
        "# 클래스 정의\n",
        "class Calculator :\n",
        "  def __init__(self) :    # 더블 언더스코어 -> '던더'\n",
        "    self.result = 0       # 생성자 constructor 객체를 생성할 때 자동 호출되어 실행된다.\n",
        "\n",
        "  def add(self, num) :    # 함수를 클래스 안에서 구현하면 메서드, 그 메서드를 객체가 호출하여 사용한다.\n",
        "    self.result += num\n",
        "    return self.result              # 매서드의 매새변수 첫 번째에 self를 사용하여 그 자리에는 객체명이 오게 된다.\n",
        "\n",
        "# 객체 생성\n",
        "cal1 = Calculator()   # 객체를 생성할 때 생성자가 호출되어 cal1.result = 0 으로 초기화된다.\n",
        "cal2 = Calculator()\n",
        "cal3 = Calculator()\n",
        "\n",
        "# 메서드 호출\n",
        "print(cal1.add(4))\n",
        "print(cal2.add(7))\n",
        "print(cal3.add(9))\n",
        "\n",
        "print(cal1.add(4))\n",
        "print(cal2.add(7))\n",
        "print(cal3.add(9))\n"
      ],
      "metadata": {
        "colab": {
          "base_uri": "https://localhost:8080/"
        },
        "id": "g6JCBHP_v4SQ",
        "outputId": "78488111-86d3-4dd8-9553-1d6e4c3068c3"
      },
      "execution_count": 22,
      "outputs": [
        {
          "output_type": "stream",
          "name": "stdout",
          "text": [
            "4\n",
            "7\n",
            "9\n",
            "8\n",
            "14\n",
            "18\n"
          ]
        }
      ]
    },
    {
      "cell_type": "code",
      "source": [
        "# 객체와 인스턴스의 차이\n",
        "\n",
        "\n",
        "# 클래스로 만든 객체를 인스턴스라고도 한다. 그러면 객체와 인스턴스의 차이는 무엇일까...?\n",
        "# a = Cal() 이렇게 만든  a는 객체이다.\n",
        "# a는 Cal()클래스로 만든 인스턴스다.\n",
        "# 즉, 인스턴스라는 표현은 객체가 어떤 클래스로 만든건지 관계 위주로 설명할 때 사용한다.\n",
        "# 다시 한 번 표현하면 'a는 인스턴스다' 보다는 'a는 객체다' 라는 표현이 더 어울리며\n",
        "# 'a는 Cal 클래스의 객체다' 라는 표현보다는 'a는 Cal 클래스의 인스턴스다' 라는 표현이 더 적절하다.\n",
        "\n",
        "\n",
        "\n"
      ],
      "metadata": {
        "id": "I8uxIFiPv4Uo"
      },
      "execution_count": null,
      "outputs": []
    },
    {
      "cell_type": "code",
      "source": [
        "\n",
        "# 사칙연산 계산 클래스 -> 계산기 객체를 생성 -> 사칙연산은 메서드로 구현한다.\n",
        "\n",
        "class FourCal :\n",
        "  # def setdata(self, first, second) :  # 객체별 변수 선언 메서드\n",
        "  #   self.first = first\n",
        "  #   self.second = second\n",
        "\n",
        "  def __init__(self,first,second) :     # 생성자 : 객체 생성시 자동 실행\n",
        "    self.first = first\n",
        "    self.second = second\n",
        "\n",
        "  def add(self) :   \n",
        "    self.result = self.first + self.second \n",
        "    return self.result\n",
        "  def mul(self) :   \n",
        "    self.result = self.first * self.second \n",
        "    return self.result\n",
        "  def sub(self) :   \n",
        "    self.result = self.first - self.second \n",
        "    return self.result\n",
        "  def div(self) :   \n",
        "    self.result = self.first / self.second \n",
        "    return self.result\n",
        "\n",
        "a = FourCal(4,2)\n",
        "b = FourCal(3,5)\n",
        "\n",
        "# a.setdata(4,2)\n",
        "print(a.first, a.second)\n",
        "print(a.add())\n",
        "\n",
        "# b.setdata(3,5)\n",
        "print(b.first, b.second)\n",
        "print(b.add())\n",
        "\n",
        "\n",
        "\n",
        "# 객체마다 다른 고유의 변수값을 각각 따로 유지하게 된다.\n"
      ],
      "metadata": {
        "colab": {
          "base_uri": "https://localhost:8080/"
        },
        "id": "46gMxpIJBTgc",
        "outputId": "5adf35cb-bb33-4349-ebc2-2194e0e6c0cf"
      },
      "execution_count": 32,
      "outputs": [
        {
          "output_type": "stream",
          "name": "stdout",
          "text": [
            "4 2\n",
            "6\n",
            "3 5\n",
            "8\n"
          ]
        }
      ]
    },
    {
      "cell_type": "code",
      "source": [
        "# 상속 inheritance 자바에서는 다중상속을 지원하지 않는다. 파이썬은 다중상속 지원. \n",
        "# 상속은 기존 클래스를 변경하지 않고 기능을 추가하거나 기존 기능을 변경할 때 사용한다.\n",
        "\n",
        "class MoreFourCal(FourCal):\n",
        "  pass\n",
        "\n",
        "c = MoreFourCal(4,2)\n",
        "print(c.add())\n",
        "print(c.mul())\n",
        "print(c.sub())\n",
        "print(c.div())\n",
        "\n",
        "\n"
      ],
      "metadata": {
        "colab": {
          "base_uri": "https://localhost:8080/"
        },
        "id": "y3JCjopSBTi2",
        "outputId": "80efef2e-4ff7-4cc9-9705-1dc8b119f83c"
      },
      "execution_count": 34,
      "outputs": [
        {
          "output_type": "stream",
          "name": "stdout",
          "text": [
            "6\n",
            "8\n",
            "2\n",
            "2.0\n"
          ]
        }
      ]
    },
    {
      "cell_type": "code",
      "source": [
        "a = FourCal(4,0)    # 기존 클래스에 문제가 있다. 0으로 나누면 에러가 발생한다.\n",
        "a.div()"
      ],
      "metadata": {
        "colab": {
          "base_uri": "https://localhost:8080/",
          "height": 318
        },
        "id": "qiFvz7fRLJY-",
        "outputId": "c5917922-1654-4e5c-816d-1541edbdf0a5"
      },
      "execution_count": 35,
      "outputs": [
        {
          "output_type": "error",
          "ename": "ZeroDivisionError",
          "evalue": "ignored",
          "traceback": [
            "\u001b[0;31m---------------------------------------------------------------------------\u001b[0m",
            "\u001b[0;31mZeroDivisionError\u001b[0m                         Traceback (most recent call last)",
            "\u001b[0;32m<ipython-input-35-8d7f035a910a>\u001b[0m in \u001b[0;36m<module>\u001b[0;34m()\u001b[0m\n\u001b[1;32m      1\u001b[0m \u001b[0ma\u001b[0m \u001b[0;34m=\u001b[0m \u001b[0mFourCal\u001b[0m\u001b[0;34m(\u001b[0m\u001b[0;36m4\u001b[0m\u001b[0;34m,\u001b[0m\u001b[0;36m0\u001b[0m\u001b[0;34m)\u001b[0m\u001b[0;34m\u001b[0m\u001b[0;34m\u001b[0m\u001b[0m\n\u001b[0;32m----> 2\u001b[0;31m \u001b[0ma\u001b[0m\u001b[0;34m.\u001b[0m\u001b[0mdiv\u001b[0m\u001b[0;34m(\u001b[0m\u001b[0;34m)\u001b[0m\u001b[0;34m\u001b[0m\u001b[0;34m\u001b[0m\u001b[0m\n\u001b[0m",
            "\u001b[0;32m<ipython-input-32-e4dbc9b01c80>\u001b[0m in \u001b[0;36mdiv\u001b[0;34m(self)\u001b[0m\n\u001b[1;32m     21\u001b[0m     \u001b[0;32mreturn\u001b[0m \u001b[0mself\u001b[0m\u001b[0;34m.\u001b[0m\u001b[0mresult\u001b[0m\u001b[0;34m\u001b[0m\u001b[0;34m\u001b[0m\u001b[0m\n\u001b[1;32m     22\u001b[0m   \u001b[0;32mdef\u001b[0m \u001b[0mdiv\u001b[0m\u001b[0;34m(\u001b[0m\u001b[0mself\u001b[0m\u001b[0;34m)\u001b[0m \u001b[0;34m:\u001b[0m\u001b[0;34m\u001b[0m\u001b[0;34m\u001b[0m\u001b[0m\n\u001b[0;32m---> 23\u001b[0;31m     \u001b[0mself\u001b[0m\u001b[0;34m.\u001b[0m\u001b[0mresult\u001b[0m \u001b[0;34m=\u001b[0m \u001b[0mself\u001b[0m\u001b[0;34m.\u001b[0m\u001b[0mfirst\u001b[0m \u001b[0;34m/\u001b[0m \u001b[0mself\u001b[0m\u001b[0;34m.\u001b[0m\u001b[0msecond\u001b[0m\u001b[0;34m\u001b[0m\u001b[0;34m\u001b[0m\u001b[0m\n\u001b[0m\u001b[1;32m     24\u001b[0m     \u001b[0;32mreturn\u001b[0m \u001b[0mself\u001b[0m\u001b[0;34m.\u001b[0m\u001b[0mresult\u001b[0m\u001b[0;34m\u001b[0m\u001b[0;34m\u001b[0m\u001b[0m\n\u001b[1;32m     25\u001b[0m \u001b[0;34m\u001b[0m\u001b[0m\n",
            "\u001b[0;31mZeroDivisionError\u001b[0m: division by zero"
          ]
        }
      ]
    },
    {
      "cell_type": "code",
      "source": [
        "class SafeFourCal(FourCal):\n",
        "  def div(self) :   # 상속받은 FourCal에 동일한 이름의 메서드르르 자식 클래스가 오버라이드\n",
        "    if self.second == 0 :\n",
        "      return 0 \n",
        "    else :\n",
        "      return self.first / self.second\n",
        "\n",
        "a = SafeFourCal(4,0)\n",
        "a.div()   # FourCal 클래스를 상속한 SafeFourCal 클래스의 div가 호출되어, 즉 자식의 메서드가 호출"
      ],
      "metadata": {
        "colab": {
          "base_uri": "https://localhost:8080/"
        },
        "id": "owbj29NfLZ9B",
        "outputId": "853331a3-b824-48c0-f42c-86c13028201e"
      },
      "execution_count": 39,
      "outputs": [
        {
          "output_type": "execute_result",
          "data": {
            "text/plain": [
              "0"
            ]
          },
          "metadata": {},
          "execution_count": 39
        }
      ]
    },
    {
      "cell_type": "code",
      "source": [
        "# 클래스 변수 (사용 x)\n",
        "\n",
        "# 객체 변수(사용 ***)는 다른 객체들에 영향을 받지 않고 독립적으로 그 값을 유지한다. (객체지향의 핵심)\n",
        "\n",
        "class Family :\n",
        "  lastname = '김'   # 클래스 변수\n",
        "\n",
        "a = Family()        # 객체를 생성\n",
        "print(a.lastname)          # 객체를 통해서 변수 접근 ( 메서드 접근 )\n",
        "\n",
        "b = Family()        # 객체를 생성\n",
        "print(b.lastname)          # 객체를 통해서 변수 접근 ( 메서드 접근 )\n",
        "\n",
        "print(Family.lastname)     # 클래스 변수는 객체를 생성하지 않고도 클래스명.변수명으로 접근 가능\n",
        "\n",
        "Family.lastname ='최'\n",
        "print(a.lastname)\n",
        "print(b.lastname)"
      ],
      "metadata": {
        "colab": {
          "base_uri": "https://localhost:8080/"
        },
        "id": "uagIwFiXM1mq",
        "outputId": "4caef77f-a731-4fed-a073-8016baa3cbea"
      },
      "execution_count": 43,
      "outputs": [
        {
          "output_type": "stream",
          "name": "stdout",
          "text": [
            "김\n",
            "김\n",
            "김\n",
            "최\n",
            "최\n"
          ]
        }
      ]
    },
    {
      "cell_type": "code",
      "source": [
        "\n",
        "\n",
        "\n"
      ],
      "metadata": {
        "id": "s_o2L4j8M1pQ"
      },
      "execution_count": null,
      "outputs": []
    }
  ]
}