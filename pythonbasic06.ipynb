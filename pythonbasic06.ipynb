{
 "cells": [
  {
   "cell_type": "code",
   "execution_count": null,
   "metadata": {},
   "outputs": [],
   "source": []
  },
  {
   "cell_type": "code",
   "execution_count": null,
   "metadata": {},
   "outputs": [],
   "source": []
  },
  {
   "cell_type": "code",
   "execution_count": 1,
   "metadata": {},
   "outputs": [
    {
     "ename": "FileNotFoundError",
     "evalue": "[Errno 2] No such file or directory: 'clicktest.ui'",
     "output_type": "error",
     "traceback": [
      "\u001b[1;31m---------------------------------------------------------------------------\u001b[0m",
      "\u001b[1;31mFileNotFoundError\u001b[0m                         Traceback (most recent call last)",
      "Input \u001b[1;32mIn [1]\u001b[0m, in \u001b[0;36m<cell line: 5>\u001b[1;34m()\u001b[0m\n\u001b[0;32m      2\u001b[0m \u001b[38;5;28;01mfrom\u001b[39;00m \u001b[38;5;21;01mPyQt5\u001b[39;00m\u001b[38;5;21;01m.\u001b[39;00m\u001b[38;5;21;01mQtWidgets\u001b[39;00m \u001b[38;5;28;01mimport\u001b[39;00m \u001b[38;5;241m*\u001b[39m\n\u001b[0;32m      3\u001b[0m \u001b[38;5;28;01mfrom\u001b[39;00m \u001b[38;5;21;01mPyQt5\u001b[39;00m \u001b[38;5;28;01mimport\u001b[39;00m uic\n\u001b[1;32m----> 5\u001b[0m form_class \u001b[38;5;241m=\u001b[39m \u001b[43muic\u001b[49m\u001b[38;5;241;43m.\u001b[39;49m\u001b[43mloadUiType\u001b[49m\u001b[43m(\u001b[49m\u001b[38;5;124;43m'\u001b[39;49m\u001b[38;5;124;43mclicktest.ui\u001b[39;49m\u001b[38;5;124;43m'\u001b[39;49m\u001b[43m)\u001b[49m[\u001b[38;5;241m0\u001b[39m]\n\u001b[0;32m      7\u001b[0m \u001b[38;5;28;01mclass\u001b[39;00m \u001b[38;5;21;01mMyWindow\u001b[39;00m(QMainWindow, form_class) :\n\u001b[0;32m      8\u001b[0m     \u001b[38;5;28;01mdef\u001b[39;00m \u001b[38;5;21m__init__\u001b[39m(\u001b[38;5;28mself\u001b[39m) :            \n",
      "File \u001b[1;32m~\\anaconda3\\lib\\site-packages\\PyQt5\\uic\\__init__.py:200\u001b[0m, in \u001b[0;36mloadUiType\u001b[1;34m(uifile, from_imports, resource_suffix, import_from)\u001b[0m\n\u001b[0;32m    197\u001b[0m     \u001b[38;5;28;01mfrom\u001b[39;00m \u001b[38;5;21;01m.\u001b[39;00m\u001b[38;5;21;01mport_v2\u001b[39;00m\u001b[38;5;21;01m.\u001b[39;00m\u001b[38;5;21;01mstring_io\u001b[39;00m \u001b[38;5;28;01mimport\u001b[39;00m StringIO\n\u001b[0;32m    199\u001b[0m code_string \u001b[38;5;241m=\u001b[39m StringIO()\n\u001b[1;32m--> 200\u001b[0m winfo \u001b[38;5;241m=\u001b[39m \u001b[43mcompiler\u001b[49m\u001b[38;5;241;43m.\u001b[39;49m\u001b[43mUICompiler\u001b[49m\u001b[43m(\u001b[49m\u001b[43m)\u001b[49m\u001b[38;5;241;43m.\u001b[39;49m\u001b[43mcompileUi\u001b[49m\u001b[43m(\u001b[49m\u001b[43muifile\u001b[49m\u001b[43m,\u001b[49m\u001b[43m \u001b[49m\u001b[43mcode_string\u001b[49m\u001b[43m,\u001b[49m\u001b[43m \u001b[49m\u001b[43mfrom_imports\u001b[49m\u001b[43m,\u001b[49m\n\u001b[0;32m    201\u001b[0m \u001b[43m        \u001b[49m\u001b[43mresource_suffix\u001b[49m\u001b[43m,\u001b[49m\u001b[43m \u001b[49m\u001b[43mimport_from\u001b[49m\u001b[43m)\u001b[49m\n\u001b[0;32m    203\u001b[0m ui_globals \u001b[38;5;241m=\u001b[39m {}\n\u001b[0;32m    204\u001b[0m exec(code_string\u001b[38;5;241m.\u001b[39mgetvalue(), ui_globals)\n",
      "File \u001b[1;32m~\\anaconda3\\lib\\site-packages\\PyQt5\\uic\\Compiler\\compiler.py:111\u001b[0m, in \u001b[0;36mUICompiler.compileUi\u001b[1;34m(self, input_stream, output_stream, from_imports, resource_suffix, import_from)\u001b[0m\n\u001b[0;32m    109\u001b[0m \u001b[38;5;28;01mdef\u001b[39;00m \u001b[38;5;21mcompileUi\u001b[39m(\u001b[38;5;28mself\u001b[39m, input_stream, output_stream, from_imports, resource_suffix, import_from):\n\u001b[0;32m    110\u001b[0m     createCodeIndenter(output_stream)\n\u001b[1;32m--> 111\u001b[0m     w \u001b[38;5;241m=\u001b[39m \u001b[38;5;28;43mself\u001b[39;49m\u001b[38;5;241;43m.\u001b[39;49m\u001b[43mparse\u001b[49m\u001b[43m(\u001b[49m\u001b[43minput_stream\u001b[49m\u001b[43m,\u001b[49m\u001b[43m \u001b[49m\u001b[43mresource_suffix\u001b[49m\u001b[43m)\u001b[49m\n\u001b[0;32m    113\u001b[0m     \u001b[38;5;28mself\u001b[39m\u001b[38;5;241m.\u001b[39mfactory\u001b[38;5;241m.\u001b[39m_cpolicy\u001b[38;5;241m.\u001b[39m_writeOutImports()\n\u001b[0;32m    115\u001b[0m     \u001b[38;5;28;01mfor\u001b[39;00m res \u001b[38;5;129;01min\u001b[39;00m \u001b[38;5;28mself\u001b[39m\u001b[38;5;241m.\u001b[39m_resources:\n",
      "File \u001b[1;32m~\\anaconda3\\lib\\site-packages\\PyQt5\\uic\\uiparser.py:1020\u001b[0m, in \u001b[0;36mUIParser.parse\u001b[1;34m(self, filename, resource_suffix)\u001b[0m\n\u001b[0;32m   1006\u001b[0m \u001b[38;5;66;03m# The order in which the different branches are handled is important.\u001b[39;00m\n\u001b[0;32m   1007\u001b[0m \u001b[38;5;66;03m# The widget tree handler relies on all custom widgets being known, and\u001b[39;00m\n\u001b[0;32m   1008\u001b[0m \u001b[38;5;66;03m# in order to create the connections, all widgets have to be populated.\u001b[39;00m\n\u001b[0;32m   1009\u001b[0m branchHandlers \u001b[38;5;241m=\u001b[39m (\n\u001b[0;32m   1010\u001b[0m     (\u001b[38;5;124m\"\u001b[39m\u001b[38;5;124mlayoutdefault\u001b[39m\u001b[38;5;124m\"\u001b[39m, \u001b[38;5;28mself\u001b[39m\u001b[38;5;241m.\u001b[39mreadDefaults),\n\u001b[0;32m   1011\u001b[0m     (\u001b[38;5;124m\"\u001b[39m\u001b[38;5;124mclass\u001b[39m\u001b[38;5;124m\"\u001b[39m,         \u001b[38;5;28mself\u001b[39m\u001b[38;5;241m.\u001b[39mclassname),\n\u001b[1;32m   (...)\u001b[0m\n\u001b[0;32m   1017\u001b[0m     (\u001b[38;5;124m\"\u001b[39m\u001b[38;5;124mresources\u001b[39m\u001b[38;5;124m\"\u001b[39m,     \u001b[38;5;28mself\u001b[39m\u001b[38;5;241m.\u001b[39mreadResources),\n\u001b[0;32m   1018\u001b[0m )\n\u001b[1;32m-> 1020\u001b[0m document \u001b[38;5;241m=\u001b[39m \u001b[43mparse\u001b[49m\u001b[43m(\u001b[49m\u001b[43mfilename\u001b[49m\u001b[43m)\u001b[49m\n\u001b[0;32m   1021\u001b[0m root \u001b[38;5;241m=\u001b[39m document\u001b[38;5;241m.\u001b[39mgetroot()\n\u001b[0;32m   1023\u001b[0m \u001b[38;5;28;01mif\u001b[39;00m root\u001b[38;5;241m.\u001b[39mtag \u001b[38;5;241m!=\u001b[39m \u001b[38;5;124m'\u001b[39m\u001b[38;5;124mui\u001b[39m\u001b[38;5;124m'\u001b[39m:\n",
      "File \u001b[1;32m~\\anaconda3\\lib\\xml\\etree\\ElementTree.py:1229\u001b[0m, in \u001b[0;36mparse\u001b[1;34m(source, parser)\u001b[0m\n\u001b[0;32m   1220\u001b[0m \u001b[38;5;124;03m\"\"\"Parse XML document into element tree.\u001b[39;00m\n\u001b[0;32m   1221\u001b[0m \n\u001b[0;32m   1222\u001b[0m \u001b[38;5;124;03m*source* is a filename or file object containing XML data,\u001b[39;00m\n\u001b[1;32m   (...)\u001b[0m\n\u001b[0;32m   1226\u001b[0m \n\u001b[0;32m   1227\u001b[0m \u001b[38;5;124;03m\"\"\"\u001b[39;00m\n\u001b[0;32m   1228\u001b[0m tree \u001b[38;5;241m=\u001b[39m ElementTree()\n\u001b[1;32m-> 1229\u001b[0m \u001b[43mtree\u001b[49m\u001b[38;5;241;43m.\u001b[39;49m\u001b[43mparse\u001b[49m\u001b[43m(\u001b[49m\u001b[43msource\u001b[49m\u001b[43m,\u001b[49m\u001b[43m \u001b[49m\u001b[43mparser\u001b[49m\u001b[43m)\u001b[49m\n\u001b[0;32m   1230\u001b[0m \u001b[38;5;28;01mreturn\u001b[39;00m tree\n",
      "File \u001b[1;32m~\\anaconda3\\lib\\xml\\etree\\ElementTree.py:569\u001b[0m, in \u001b[0;36mElementTree.parse\u001b[1;34m(self, source, parser)\u001b[0m\n\u001b[0;32m    567\u001b[0m close_source \u001b[38;5;241m=\u001b[39m \u001b[38;5;28;01mFalse\u001b[39;00m\n\u001b[0;32m    568\u001b[0m \u001b[38;5;28;01mif\u001b[39;00m \u001b[38;5;129;01mnot\u001b[39;00m \u001b[38;5;28mhasattr\u001b[39m(source, \u001b[38;5;124m\"\u001b[39m\u001b[38;5;124mread\u001b[39m\u001b[38;5;124m\"\u001b[39m):\n\u001b[1;32m--> 569\u001b[0m     source \u001b[38;5;241m=\u001b[39m \u001b[38;5;28;43mopen\u001b[39;49m\u001b[43m(\u001b[49m\u001b[43msource\u001b[49m\u001b[43m,\u001b[49m\u001b[43m \u001b[49m\u001b[38;5;124;43m\"\u001b[39;49m\u001b[38;5;124;43mrb\u001b[39;49m\u001b[38;5;124;43m\"\u001b[39;49m\u001b[43m)\u001b[49m\n\u001b[0;32m    570\u001b[0m     close_source \u001b[38;5;241m=\u001b[39m \u001b[38;5;28;01mTrue\u001b[39;00m\n\u001b[0;32m    571\u001b[0m \u001b[38;5;28;01mtry\u001b[39;00m:\n",
      "\u001b[1;31mFileNotFoundError\u001b[0m: [Errno 2] No such file or directory: 'clicktest.ui'"
     ]
    }
   ],
   "source": [
    "import sys\n",
    "from PyQt5.QtWidgets import *\n",
    "from PyQt5 import uic\n",
    "\n",
    "form_class = uic.loadUiType('clicktest.ui')[0]\n",
    "\n",
    "class MyWindow(QMainWindow, form_class) :\n",
    "    def __init__(self) :            \n",
    "        super().__init__()\n",
    "        self.setupUi(self)          \n",
    "\n",
    "app = QApplication(sys.argv)        \n",
    "window = MyWindow()                 \n",
    "window.show()                       \n",
    "app.exec_()                         \n",
    "\n"
   ]
  },
  {
   "cell_type": "code",
   "execution_count": 3,
   "metadata": {},
   "outputs": [
    {
     "name": "stdout",
     "output_type": "stream",
     "text": [
      "Hello World\n",
      "Hello World\n",
      "Hello World\n"
     ]
    },
    {
     "data": {
      "text/plain": [
       "0"
      ]
     },
     "execution_count": 3,
     "metadata": {},
     "output_type": "execute_result"
    }
   ],
   "source": [
    "# 클릭 이벤트 추가\n",
    "\n",
    "import sys                      # 시스템 접근 모듈\n",
    "from PyQt5.QtWidgets import *   # ui의 widjet 접근 모듈\n",
    "from PyQt5 import uic           # ui 사용 모듈\n",
    "\n",
    "form_class = uic.loadUiType(\"clicktest.ui\")[0] # [0] 꼭 입력\n",
    "\n",
    "class MyWindow(QMainWindow, form_class):\n",
    "    def __init__(self):      # 생성자\n",
    "        super().__init__()   # 부모의 생성자 사용\n",
    "        self.setupUi(self)   # ui 활성화\n",
    "        self.pushButton.clicked.connect(self.btn_clicked)\n",
    "\n",
    "    # 단추를 클릭할 때 연결되어 실행되는 메서드\n",
    "    def btn_clicked(self) :\n",
    "        print('Hello World')\n",
    "\n",
    "app = QApplication(sys.argv) # 창 객체 생성\n",
    "window = MyWindow()          # 창 생성\n",
    "window.show()                # 창 띄우기\n",
    "app.exec_()                  # 창 계속 유지\n",
    "\n"
   ]
  },
  {
   "cell_type": "code",
   "execution_count": 1,
   "metadata": {},
   "outputs": [
    {
     "ename": "KeyboardInterrupt",
     "evalue": "",
     "output_type": "error",
     "traceback": [
      "\u001b[1;31m---------------------------------------------------------------------------\u001b[0m",
      "\u001b[1;31mKeyboardInterrupt\u001b[0m                         Traceback (most recent call last)",
      "Input \u001b[1;32mIn [1]\u001b[0m, in \u001b[0;36m<cell line: 26>\u001b[1;34m()\u001b[0m\n\u001b[0;32m     24\u001b[0m window \u001b[38;5;241m=\u001b[39m MyWindow()          \u001b[38;5;66;03m# 창 생성\u001b[39;00m\n\u001b[0;32m     25\u001b[0m window\u001b[38;5;241m.\u001b[39mshow()                \u001b[38;5;66;03m# 창 띄우기\u001b[39;00m\n\u001b[1;32m---> 26\u001b[0m \u001b[43mapp\u001b[49m\u001b[38;5;241;43m.\u001b[39;49m\u001b[43mexec_\u001b[49m\u001b[43m(\u001b[49m\u001b[43m)\u001b[49m\n",
      "\u001b[1;31mKeyboardInterrupt\u001b[0m: "
     ]
    }
   ],
   "source": [
    "# 코인 조회기\n",
    "\n",
    "import sys                      # 시스템 접근 모듈\n",
    "from PyQt5.QtWidgets import *   # ui의 widjet 접근 모듈\n",
    "from PyQt5 import uic           # ui 사용 모듈\n",
    "import pybithumb                # 빗썸 코인 조회 API\n",
    "\n",
    "form_class = uic.loadUiType(\"coin.ui\")[0] # [0] 꼭 입력\n",
    "\n",
    "class MyWindow(QMainWindow, form_class):\n",
    "    def __init__(self):      # 생성자\n",
    "        super().__init__()   # 부모의 생성자 사용\n",
    "        self.setupUi(self)   # ui 활성화\n",
    "        self.pushButton.clicked.connect(self.btn_clicked)\n",
    "\n",
    "    # 단추를 클릭할 때 연결되어 실행되는 메서드\n",
    "    def btn_clicked(self) :\n",
    "        price = pybithumb.get_current_price('BTC')\n",
    "        # 빗썸 API를 이용하여 비트코인 가격을 조회\n",
    "        self.lineEdit.setText(str(price))\n",
    "        # 조회한 가격을 빈칸에 출력\n",
    "\n",
    "app = QApplication(sys.argv) # 창 객체 생성\n",
    "window = MyWindow()          # 창 생성\n",
    "window.show()                # 창 띄우기\n",
    "app.exec_()                  # 창 계속 유지\n",
    "\n"
   ]
  },
  {
   "cell_type": "code",
   "execution_count": 10,
   "metadata": {},
   "outputs": [
    {
     "name": "stdout",
     "output_type": "stream",
     "text": [
      "38485000.0\n",
      "27150.0\n",
      "509.8\n"
     ]
    }
   ],
   "source": [
    "# API를 이용한 코인 가격 조회기\n",
    "\n",
    "# !pip install pybithumb      # 최초 한번 설치\n",
    "import pybithumb\n",
    "\n",
    "print(pybithumb.get_current_price('BTC'))\n",
    "print(pybithumb.get_current_price('ETC'))\n",
    "print(pybithumb.get_current_price('XRP'))\n"
   ]
  },
  {
   "cell_type": "code",
   "execution_count": 1,
   "metadata": {},
   "outputs": [
    {
     "data": {
      "text/plain": [
       "0"
      ]
     },
     "execution_count": 1,
     "metadata": {},
     "output_type": "execute_result"
    }
   ],
   "source": [
    "# API를 이용한 코인 가격 조회기\n",
    "# 비트코인, 이더리움, 에이다 , 리플\n",
    "\n",
    "import sys                      # 시스템 접근 모듈\n",
    "from PyQt5.QtWidgets import *   # ui의 widjet 접근 모듈\n",
    "from PyQt5 import uic           # ui 사용 모듈\n",
    "import pybithumb                # 빗썸 코인 조회 API\n",
    "\n",
    "form_class = uic.loadUiType(\"coin_.ui\")[0] # [0] 꼭 입력\n",
    "\n",
    "class MyWindow(QMainWindow, form_class):\n",
    "    def __init__(self):      # 생성자\n",
    "        super().__init__()   # 부모의 생성자 사용\n",
    "        self.setupUi(self)   # ui 활성화\n",
    "        self.pushButton.clicked.connect(self.btn_clicked)\n",
    "\n",
    "    # 단추를 클릭할 때 연결되어 실행되는 메서드\n",
    "    def btn_clicked(self) :\n",
    "        BTC = pybithumb.get_current_price('BTC')\n",
    "        ETC = pybithumb.get_current_price('ETC')\n",
    "        ADA = pybithumb.get_current_price('ADA')\n",
    "        XRP = pybithumb.get_current_price('XRP')  \n",
    "        # 빗썸 API를 이용하여 비트코인 가격을 조회\n",
    "        self.lineEdit.setText(str(BTC))\n",
    "        self.lineEdit_2.setText(str(ETC))\n",
    "        self.lineEdit_3.setText(str(ADA))\n",
    "        self.lineEdit_4.setText(str(XRP))\n",
    "        # 조회한 가격을 빈칸에 출력\n",
    "\n",
    "app = QApplication(sys.argv) # 창 객체 생성\n",
    "window = MyWindow()          # 창 생성\n",
    "window.show()                # 창 띄우기\n",
    "app.exec_()                  # 창 계속 유지\n"
   ]
  },
  {
   "cell_type": "code",
   "execution_count": 1,
   "metadata": {},
   "outputs": [
    {
     "data": {
      "text/plain": [
       "0"
      ]
     },
     "execution_count": 1,
     "metadata": {},
     "output_type": "execute_result"
    }
   ],
   "source": [
    "# API를 이용한 코인 가격 조회기\n",
    "# 비트코인, 이더리움, 에이다 , 리플\n",
    "# 타이머를 설정하여 일정 시간마다 자동으로 업데이트\n",
    "\n",
    "import sys                      # 시스템 접근 모듈\n",
    "from PyQt5.QtWidgets import *   # ui의 widjet 접근 모듈\n",
    "from PyQt5 import uic           # ui 사용 모듈\n",
    "import pybithumb                # 빗썸 코인 조회 API\n",
    "from PyQt5.QtCore import *      # 타이머\n",
    "\n",
    "\n",
    "form_class = uic.loadUiType(\"coin_.ui\")[0] # [0] 꼭 입력\n",
    "\n",
    "class MyWindow(QMainWindow, form_class):\n",
    "    def __init__(self):      # 생성자\n",
    "        super().__init__()   # 부모의 생성자 사용\n",
    "        self.setupUi(self)   # ui 활성화\n",
    "\n",
    "        # self.pushButton.clicked.connect(self.btn_clicked)\n",
    "        # 단추를 클릭하면 특정 매서드로 연결 실행\n",
    "\n",
    "        self.timer = QTimer(self)\n",
    "        self.timer.start(2000)              # 2초\n",
    "        self.timer.timeout.connect(self.btn_clicked)\n",
    "        #단추를 클릭하지 않아도 특정 시간마다 자동으로 호출\n",
    "\n",
    "\n",
    "    # 단추를 클릭할 때 연결되어 실행되는 메서드\n",
    "    def btn_clicked(self) :\n",
    "        BTC = pybithumb.get_current_price('BTC')\n",
    "        ETC = pybithumb.get_current_price('ETC')\n",
    "        ADA = pybithumb.get_current_price('ADA')\n",
    "        XRP = pybithumb.get_current_price('XRP')  \n",
    "        # 빗썸 API를 이용하여 비트코인 가격을 조회\n",
    "        self.lineEdit.setText(str(BTC))\n",
    "        self.lineEdit_2.setText(str(ETC))\n",
    "        self.lineEdit_3.setText(str(ADA))\n",
    "        self.lineEdit_4.setText(str(XRP))\n",
    "        # 조회한 가격을 빈칸에 출력\n",
    "\n",
    "app = QApplication(sys.argv) # 창 객체 생성\n",
    "window = MyWindow()          # 창 생성\n",
    "window.show()                # 창 띄우기\n",
    "app.exec_()                  # 창 계속 유지\n",
    "\n",
    "\n"
   ]
  },
  {
   "cell_type": "code",
   "execution_count": 1,
   "metadata": {},
   "outputs": [
    {
     "data": {
      "text/plain": [
       "0"
      ]
     },
     "execution_count": 1,
     "metadata": {},
     "output_type": "execute_result"
    }
   ],
   "source": [
    "# API를 이용한 10개 코인 테이블 위젯 조회기\n",
    "\n",
    "import sys                      # 시스템 접근 모듈\n",
    "from PyQt5.QtWidgets import *   # ui의 widjet 접근 모듈\n",
    "from PyQt5 import uic           # ui 사용 모듈\n",
    "import pybithumb                # 빗썸 코인 조회 API\n",
    "import pykorbit                 # 빗썸 코인 조회 API\n",
    "from PyQt5.QtCore import *      # 타이머\n",
    "from PyQt5.QtGui import QIcon\n",
    "\n",
    "form_class = uic.loadUiType(\"coinprice.ui\")[0] # [0] 꼭 입력\n",
    "tickers = ['BTC', 'ETH', 'XRP', 'ADA', 'LTC', 'KLAY', 'TRX', 'DOGE', 'EOS', 'ZIL']\n",
    "\n",
    "class MyWindow(QMainWindow, form_class):\n",
    "    def __init__(self):      # 생성자\n",
    "        super().__init__()   # 부모의 생성자 사용\n",
    "        self.setupUi(self)   # ui 활성화\n",
    "        self.setWindowIcon(QIcon('web.png'))\n",
    "\n",
    "        self.timer = QTimer(self)\n",
    "        self.timer.start(2000)              # 2초\n",
    "        self.timer.timeout.connect(self.btn_clicked)\n",
    "        #단추를 클릭하지 않아도 특정 시간마다 자동으로 호출\n",
    "\n",
    "\n",
    "    # 단추를 클릭할 때 연결되어 실행되는 메서드\n",
    "    def btn_clicked(self) :\n",
    "        for i, ticker in enumerate(tickers) :\n",
    "            item = QTableWidgetItem(ticker)\n",
    "            self.tableWidget.setItem(i, 0, item)\n",
    "                                #   행, 열, 넣을 값 \n",
    "            pri = str(pybithumb.get_current_price(ticker))\n",
    "            price = QTableWidgetItem(pri)\n",
    "\n",
    "            # 강사님 코드\n",
    "            # pri = pybithumb.get_current_price(ticker)\n",
    "            # price = QTableWidgetItem(str(pri))\n",
    "            self.tableWidget.setItem(i, 1, price)\n",
    "\n",
    "            pri = str(pykorbit.get_current_price(ticker))\n",
    "            price = QTableWidgetItem(pri)\n",
    "            self.tableWidget.setItem(i, 2, price)\n",
    "\n",
    "\n",
    "app = QApplication(sys.argv) # 창 객체 생성\n",
    "window = MyWindow()          # 창 생성\n",
    "window.show()                # 창 띄우기\n",
    "app.exec_()                  # 창 계속 유지\n",
    "\n"
   ]
  },
  {
   "cell_type": "code",
   "execution_count": 1,
   "metadata": {},
   "outputs": [
    {
     "name": "stdout",
     "output_type": "stream",
     "text": [
      "Collecting pykorbit\n",
      "  Using cached pykorbit-0.2.2-py3-none-any.whl (7.5 kB)\n",
      "Requirement already satisfied: pandas in c:\\users\\pc\\anaconda3\\lib\\site-packages (from pykorbit) (1.4.2)\n",
      "Requirement already satisfied: PyJWT in c:\\users\\pc\\anaconda3\\lib\\site-packages (from pykorbit) (2.1.0)\n",
      "Requirement already satisfied: xlrd in c:\\users\\pc\\anaconda3\\lib\\site-packages (from pykorbit) (2.0.1)\n",
      "Requirement already satisfied: datetime in c:\\users\\pc\\anaconda3\\lib\\site-packages (from pykorbit) (4.4)\n",
      "Requirement already satisfied: requests in c:\\users\\pc\\anaconda3\\lib\\site-packages (from pykorbit) (2.27.1)\n",
      "Requirement already satisfied: numpy in c:\\users\\pc\\anaconda3\\lib\\site-packages (from pykorbit) (1.21.5)\n",
      "Requirement already satisfied: websockets in c:\\users\\pc\\anaconda3\\lib\\site-packages (from pykorbit) (10.3)\n",
      "Requirement already satisfied: pytz in c:\\users\\pc\\anaconda3\\lib\\site-packages (from datetime->pykorbit) (2021.3)\n",
      "Requirement already satisfied: zope.interface in c:\\users\\pc\\anaconda3\\lib\\site-packages (from datetime->pykorbit) (5.4.0)\n",
      "Requirement already satisfied: python-dateutil>=2.8.1 in c:\\users\\pc\\anaconda3\\lib\\site-packages (from pandas->pykorbit) (2.8.2)\n",
      "Requirement already satisfied: six>=1.5 in c:\\users\\pc\\anaconda3\\lib\\site-packages (from python-dateutil>=2.8.1->pandas->pykorbit) (1.16.0)\n",
      "Requirement already satisfied: idna<4,>=2.5 in c:\\users\\pc\\anaconda3\\lib\\site-packages (from requests->pykorbit) (3.3)\n",
      "Requirement already satisfied: charset-normalizer~=2.0.0 in c:\\users\\pc\\anaconda3\\lib\\site-packages (from requests->pykorbit) (2.0.4)\n",
      "Requirement already satisfied: certifi>=2017.4.17 in c:\\users\\pc\\anaconda3\\lib\\site-packages (from requests->pykorbit) (2021.10.8)\n",
      "Requirement already satisfied: urllib3<1.27,>=1.21.1 in c:\\users\\pc\\anaconda3\\lib\\site-packages (from requests->pykorbit) (1.26.9)\n",
      "Requirement already satisfied: setuptools in c:\\users\\pc\\anaconda3\\lib\\site-packages (from zope.interface->datetime->pykorbit) (61.2.0)\n",
      "Installing collected packages: pykorbit\n",
      "Successfully installed pykorbit-0.2.2\n"
     ]
    }
   ],
   "source": [
    "# !pip install pykorbit"
   ]
  },
  {
   "cell_type": "code",
   "execution_count": 1,
   "metadata": {},
   "outputs": [
    {
     "name": "stderr",
     "output_type": "stream",
     "text": [
      "C:\\Users\\PC\\AppData\\Local\\Temp\\ipykernel_43680\\3713626057.py:18: DeprecationWarning: executable_path has been deprecated, please pass in a Service object\n",
      "  driver = webdriver.Chrome('chromedriver.exe')\n",
      "C:\\Users\\PC\\AppData\\Local\\Temp\\ipykernel_43680\\3713626057.py:123: DeprecationWarning: find_element_by_css_selector is deprecated. Please use find_element(by=By.CSS_SELECTOR, value=css_selector) instead\n",
      "  page2 = driver.find_element_by_css_selector('div.rank-page-nav > a:nth-child(2)')\n"
     ]
    },
    {
     "data": {
      "text/plain": [
       "0"
      ]
     },
     "execution_count": 1,
     "metadata": {},
     "output_type": "execute_result"
    }
   ],
   "source": [
    "# 3대 음원 사이트 순위 조회 프로그램\n",
    "\n",
    "# API를 이용한 10개 코인 테이블 위젯 조회기\n",
    "\n",
    "import sys                      # 시스템 접근 모듈\n",
    "from PyQt5.QtWidgets import *   # ui의 widjet 접근 모듈\n",
    "from PyQt5 import uic           # ui 사용 모듈\n",
    "import pybithumb                # 빗썸 코인 조회 API\n",
    "import pykorbit                 # 빗썸 코인 조회 API\n",
    "from PyQt5.QtCore import *      # 타이머\n",
    "from PyQt5.QtGui import QIcon\n",
    "\n",
    "import requests\n",
    "from selenium import webdriver\n",
    "from bs4 import BeautifulSoup as bs\n",
    "import time\n",
    "\n",
    "driver = webdriver.Chrome('chromedriver.exe')\n",
    "\n",
    "form_class = uic.loadUiType(\"chart.ui\")[0] # [0] 꼭 입력\n",
    "tickers = ['BTC', 'ETH', 'XRP', 'ADA', 'LTC', 'KLAY', 'TRX', 'DOGE', 'EOS', 'ZIL']\n",
    "\n",
    "class MyWindow(QMainWindow, form_class):\n",
    "    def __init__(self):      # 생성자\n",
    "        super().__init__()   # 부모의 생성자 사용\n",
    "        self.setupUi(self)   # ui 활성화\n",
    "        self.setWindowIcon(QIcon('web.png'))\n",
    "\n",
    "        self.pushButton.clicked.connect(self.btn_clicked1)\n",
    "        self.pushButton_2.clicked.connect(self.btn_clicked2)\n",
    "        self.pushButton_3.clicked.connect(self.btn_clicked3)\n",
    "\n",
    "\n",
    "    # btn_clicked1 호출되는 메서드 벅스\n",
    "    def btn_clicked1(self) :\n",
    "\n",
    "        response = requests.get('https://music.bugs.co.kr/chart')   # 분석할 웹 페이지 가져오기\n",
    "        soup = bs(response.text)                                    # 가져온 소스에 bs 정제\n",
    "\n",
    "        songs = soup.select('table.list.trackList.byChart > tbody > tr')\n",
    "\n",
    "\n",
    "        for i, song in enumerate(songs) :                     \n",
    "            ran = song.select('div.ranking > strong')[0].text\n",
    "            titl = song.select('p.title > a')[0].text\n",
    "            singe = song.select('p.artist > a')[0].text\n",
    "\n",
    "            service = QTableWidgetItem(\"bugs\")\n",
    "            rank = QTableWidgetItem(ran)\n",
    "            title = QTableWidgetItem(titl)\n",
    "            singer = QTableWidgetItem(singe)\n",
    "\n",
    "            self.tableWidget.setItem(i, 0, service)\n",
    "            self.tableWidget.setItem(i, 1, rank)\n",
    "            self.tableWidget.setItem(i, 2, title)\n",
    "            self.tableWidget.setItem(i, 3, singer)\n",
    "\n",
    "\n",
    "    # btn_clicked2 호출되는 메서드 멜론\n",
    "    def btn_clicked2(self) :\n",
    "        driver.get('https://www.melon.com/chart/index.htm')\n",
    "        response = driver.page_source\n",
    "        soup = bs(response)\n",
    "\n",
    "        songs = soup.select('tr.lst50')\n",
    "        songs2 = soup.select('tr.lst100')\n",
    "\n",
    "        for i, song in enumerate(songs) :\n",
    "            titl = song.select('div.ellipsis > span > a')[0].text\n",
    "            singe = song.select('div.ellipsis > a')[0].text\n",
    "            ran = song.select('span.rank')[0].text\n",
    "\n",
    "            service = QTableWidgetItem(\"Melon\")\n",
    "            rank = QTableWidgetItem(ran)\n",
    "            title = QTableWidgetItem(titl)\n",
    "            singer = QTableWidgetItem(singe)\n",
    "\n",
    "            self.tableWidget.setItem(i, 0, service)\n",
    "            self.tableWidget.setItem(i, 1, rank)\n",
    "            self.tableWidget.setItem(i, 2, title)\n",
    "            self.tableWidget.setItem(i, 3, singer)\n",
    "\n",
    "        for i, song in enumerate(songs2) :\n",
    "            titl = song.select('div.ellipsis > span > a')[0].text\n",
    "            singe = song.select('div.ellipsis > a')[0].text\n",
    "            ran = song.select('span.rank')[0].text\n",
    "\n",
    "            service = QTableWidgetItem(\"Melon\")\n",
    "            rank = QTableWidgetItem(ran)\n",
    "            title = QTableWidgetItem(titl)\n",
    "            singer = QTableWidgetItem(singe)\n",
    "\n",
    "            self.tableWidget.setItem(50 + i, 0, service)\n",
    "            self.tableWidget.setItem(50 + i, 1, rank)\n",
    "            self.tableWidget.setItem(50 + i, 2, title)\n",
    "            self.tableWidget.setItem(50 + i, 3, singer)\n",
    "\n",
    "\n",
    "\n",
    "    # btn_clicked1 호출되는 메서드 지니\n",
    "    def btn_clicked3(self) :\n",
    "        driver.get('https://www.genie.co.kr/chart/top200')\n",
    "        response = driver.page_source\n",
    "\n",
    "        soup = bs(response)\n",
    "        songs = soup.select('tr.list')\n",
    "\n",
    "        for i, song in enumerate(songs) :\n",
    "            titl = song.select('a.title')[0].text.split('\\n')[-1].strip()\n",
    "            singe = song.select('a.artist')[0].text\n",
    "            ran = song.select('td.number')[0].text.split('\\n')[0]\n",
    "\n",
    "            service = QTableWidgetItem(\"Genie\")\n",
    "            rank = QTableWidgetItem(ran)\n",
    "            title = QTableWidgetItem(titl)\n",
    "            singer = QTableWidgetItem(singe)\n",
    "\n",
    "            self.tableWidget.setItem(i, 0, service)\n",
    "            self.tableWidget.setItem(i, 1, rank)\n",
    "            self.tableWidget.setItem(i, 2, title)\n",
    "            self.tableWidget.setItem(i, 3, singer)\n",
    "\n",
    "        page2 = driver.find_element_by_css_selector('div.rank-page-nav > a:nth-child(2)')\n",
    "        page2.click()\n",
    "\n",
    "        time.sleep(2)\n",
    "        response = driver.page_source\n",
    "        \n",
    "        soup = bs(response)\n",
    "        songs = soup.select('tr.list')\n",
    "        \n",
    "        for i, song in enumerate(songs) :\n",
    "            titl = song.select('a.title')[0].text.split('\\n')[-1].strip()\n",
    "            singe = song.select('a.artist')[0].text\n",
    "            ran = song.select('td.number')[0].text.split('\\n')[0]\n",
    "\n",
    "            service = QTableWidgetItem(\"Genie\")\n",
    "            rank = QTableWidgetItem(ran)\n",
    "            title = QTableWidgetItem(titl)\n",
    "            singer = QTableWidgetItem(singe)\n",
    "\n",
    "            self.tableWidget.setItem(50+i, 0, service)\n",
    "            self.tableWidget.setItem(50+i, 1, rank)\n",
    "            self.tableWidget.setItem(50+i, 2, title)\n",
    "            self.tableWidget.setItem(50+i, 3, singer)\n",
    "        \n",
    "\n",
    "\n",
    "\n",
    "app = QApplication(sys.argv) # 창 객체 생성\n",
    "window = MyWindow()          # 창 생성\n",
    "window.show()                # 창 띄우기\n",
    "app.exec_()                  # 창 계속 유지\n",
    "\n",
    "\n",
    "\n"
   ]
  },
  {
   "cell_type": "code",
   "execution_count": 2,
   "metadata": {},
   "outputs": [
    {
     "name": "stdout",
     "output_type": "stream",
     "text": [
      "Requirement already satisfied: selenium in c:\\users\\pc\\anaconda3\\lib\\site-packages (4.2.0)\n",
      "Requirement already satisfied: trio-websocket~=0.9 in c:\\users\\pc\\anaconda3\\lib\\site-packages (from selenium) (0.9.2)\n",
      "Requirement already satisfied: trio~=0.17 in c:\\users\\pc\\anaconda3\\lib\\site-packages (from selenium) (0.20.0)\n",
      "Requirement already satisfied: urllib3[secure,socks]~=1.26 in c:\\users\\pc\\anaconda3\\lib\\site-packages (from selenium) (1.26.9)\n",
      "Requirement already satisfied: idna in c:\\users\\pc\\anaconda3\\lib\\site-packages (from trio~=0.17->selenium) (3.3)\n",
      "Requirement already satisfied: sniffio in c:\\users\\pc\\anaconda3\\lib\\site-packages (from trio~=0.17->selenium) (1.2.0)\n",
      "Requirement already satisfied: sortedcontainers in c:\\users\\pc\\anaconda3\\lib\\site-packages (from trio~=0.17->selenium) (2.4.0)\n",
      "Requirement already satisfied: outcome in c:\\users\\pc\\anaconda3\\lib\\site-packages (from trio~=0.17->selenium) (1.1.0)\n",
      "Requirement already satisfied: cffi>=1.14 in c:\\users\\pc\\anaconda3\\lib\\site-packages (from trio~=0.17->selenium) (1.15.0)\n",
      "Requirement already satisfied: attrs>=19.2.0 in c:\\users\\pc\\anaconda3\\lib\\site-packages (from trio~=0.17->selenium) (21.4.0)\n",
      "Requirement already satisfied: async-generator>=1.9 in c:\\users\\pc\\anaconda3\\lib\\site-packages (from trio~=0.17->selenium) (1.10)\n",
      "Requirement already satisfied: pycparser in c:\\users\\pc\\anaconda3\\lib\\site-packages (from cffi>=1.14->trio~=0.17->selenium) (2.21)\n",
      "Requirement already satisfied: wsproto>=0.14 in c:\\users\\pc\\anaconda3\\lib\\site-packages (from trio-websocket~=0.9->selenium) (1.1.0)\n",
      "Requirement already satisfied: certifi in c:\\users\\pc\\anaconda3\\lib\\site-packages (from urllib3[secure,socks]~=1.26->selenium) (2021.10.8)\n",
      "Requirement already satisfied: cryptography>=1.3.4 in c:\\users\\pc\\anaconda3\\lib\\site-packages (from urllib3[secure,socks]~=1.26->selenium) (3.4.8)\n",
      "Requirement already satisfied: pyOpenSSL>=0.14 in c:\\users\\pc\\anaconda3\\lib\\site-packages (from urllib3[secure,socks]~=1.26->selenium) (21.0.0)\n",
      "Requirement already satisfied: PySocks!=1.5.7,<2.0,>=1.5.6 in c:\\users\\pc\\anaconda3\\lib\\site-packages (from urllib3[secure,socks]~=1.26->selenium) (1.7.1)\n",
      "Requirement already satisfied: six>=1.5.2 in c:\\users\\pc\\anaconda3\\lib\\site-packages (from pyOpenSSL>=0.14->urllib3[secure,socks]~=1.26->selenium) (1.16.0)\n",
      "Requirement already satisfied: h11<1,>=0.9.0 in c:\\users\\pc\\anaconda3\\lib\\site-packages (from wsproto>=0.14->trio-websocket~=0.9->selenium) (0.13.0)\n"
     ]
    }
   ],
   "source": [
    "!pip install selenium"
   ]
  },
  {
   "cell_type": "code",
   "execution_count": 2,
   "metadata": {},
   "outputs": [
    {
     "name": "stdout",
     "output_type": "stream",
     "text": [
      "Requirement already satisfied: bs4 in c:\\users\\pc\\anaconda3\\lib\\site-packages (0.0.1)\n",
      "Requirement already satisfied: beautifulsoup4 in c:\\users\\pc\\anaconda3\\lib\\site-packages (from bs4) (4.11.1)\n",
      "Requirement already satisfied: soupsieve>1.2 in c:\\users\\pc\\anaconda3\\lib\\site-packages (from beautifulsoup4->bs4) (2.3.1)\n"
     ]
    }
   ],
   "source": [
    "!pip install bs4"
   ]
  },
  {
   "cell_type": "code",
   "execution_count": 1,
   "metadata": {},
   "outputs": [
    {
     "name": "stderr",
     "output_type": "stream",
     "text": [
      "C:\\Users\\PC\\AppData\\Local\\Temp\\ipykernel_38328\\1823516687.py:12: DeprecationWarning: executable_path has been deprecated, please pass in a Service object\n",
      "  driver = webdriver.Chrome('chromedriver.exe')\n"
     ]
    },
    {
     "ename": "NameError",
     "evalue": "name 'self' is not defined",
     "output_type": "error",
     "traceback": [
      "\u001b[1;31m---------------------------------------------------------------------------\u001b[0m",
      "\u001b[1;31mNameError\u001b[0m                                 Traceback (most recent call last)",
      "Input \u001b[1;32mIn [1]\u001b[0m, in \u001b[0;36m<cell line: 16>\u001b[1;34m()\u001b[0m\n\u001b[0;32m     12\u001b[0m driver \u001b[38;5;241m=\u001b[39m webdriver\u001b[38;5;241m.\u001b[39mChrome(\u001b[38;5;124m'\u001b[39m\u001b[38;5;124mchromedriver.exe\u001b[39m\u001b[38;5;124m'\u001b[39m)\n\u001b[0;32m     14\u001b[0m form_class \u001b[38;5;241m=\u001b[39m uic\u001b[38;5;241m.\u001b[39mloadUiType(\u001b[38;5;124m\"\u001b[39m\u001b[38;5;124mmovie.ui\u001b[39m\u001b[38;5;124m\"\u001b[39m)[\u001b[38;5;241m0\u001b[39m] \u001b[38;5;66;03m# [0] 꼭 입력\u001b[39;00m\n\u001b[1;32m---> 16\u001b[0m \u001b[38;5;28;01mclass\u001b[39;00m \u001b[38;5;21;01mMyWindow\u001b[39;00m(QMainWindow, form_class):\n\u001b[0;32m     17\u001b[0m     \u001b[38;5;28;01mdef\u001b[39;00m \u001b[38;5;21m__init__\u001b[39m(\u001b[38;5;28mself\u001b[39m):      \u001b[38;5;66;03m# 생성자\u001b[39;00m\n\u001b[0;32m     18\u001b[0m         \u001b[38;5;28msuper\u001b[39m()\u001b[38;5;241m.\u001b[39m\u001b[38;5;21m__init__\u001b[39m()   \u001b[38;5;66;03m# 부모의 생성자 사용\u001b[39;00m\n",
      "Input \u001b[1;32mIn [1]\u001b[0m, in \u001b[0;36mMyWindow\u001b[1;34m()\u001b[0m\n\u001b[0;32m     42\u001b[0m title \u001b[38;5;241m=\u001b[39m QTableWidgetItem(titl)\n\u001b[0;32m     43\u001b[0m point \u001b[38;5;241m=\u001b[39m QTableWidgetItem(poin)\n\u001b[1;32m---> 45\u001b[0m \u001b[38;5;28;43mself\u001b[39;49m\u001b[38;5;241m.\u001b[39mtableWidget\u001b[38;5;241m.\u001b[39msetItem(i, \u001b[38;5;241m0\u001b[39m, service)\n\u001b[0;32m     46\u001b[0m \u001b[38;5;28mself\u001b[39m\u001b[38;5;241m.\u001b[39mtableWidget\u001b[38;5;241m.\u001b[39msetItem(i, \u001b[38;5;241m1\u001b[39m, rank)\n\u001b[0;32m     47\u001b[0m \u001b[38;5;28mself\u001b[39m\u001b[38;5;241m.\u001b[39mtableWidget\u001b[38;5;241m.\u001b[39msetItem(i, \u001b[38;5;241m2\u001b[39m, title)\n",
      "\u001b[1;31mNameError\u001b[0m: name 'self' is not defined"
     ]
    }
   ],
   "source": [
    "\n",
    "import sys                      # 시스템 접근 모듈\n",
    "from PyQt5.QtWidgets import *   # ui의 widjet 접근 모듈\n",
    "from PyQt5 import uic           # ui 사용 모듈\n",
    "from PyQt5.QtCore import *      # 타이머\n",
    "from PyQt5.QtGui import QIcon\n",
    "\n",
    "import requests\n",
    "from selenium import webdriver\n",
    "from bs4 import BeautifulSoup as bs\n",
    "import time\n",
    "\n",
    "driver = webdriver.Chrome('chromedriver.exe')\n",
    "\n",
    "form_class = uic.loadUiType(\"movie.ui\")[0] # [0] 꼭 입력\n",
    "\n",
    "class MyWindow(QMainWindow, form_class):\n",
    "    def __init__(self):      # 생성자\n",
    "        super().__init__()   # 부모의 생성자 사용\n",
    "        self.setupUi(self)   # ui 활성화\n",
    "        self.setWindowIcon(QIcon('web.png'))\n",
    "\n",
    "        self.pushButton.clicked.connect(self.btn_clicked1)\n",
    "        self.pushButton_2.clicked.connect(self.btn_clicked2)\n",
    "        self.pushButton_3.clicked.connect(self.btn_clicked3)\n",
    "\n",
    "    driver.get('https://movie.naver.com/movie/sdb/rank/rmovie.naver?sel=cur&date=20220608')\n",
    "\n",
    "    response = driver.page_source\n",
    "    soup = bs(response)\n",
    "\n",
    "    movies = soup.select('td.title')\n",
    "    points = soup.select('td.point')\n",
    "\n",
    "    ran = 0\n",
    "\n",
    "    for i in range(len(movies)):\n",
    "        titl = movies[i].text.strip()\n",
    "        poin = points[i].text.strip()\n",
    "\n",
    "        service = QTableWidgetItem(\"Naver Movie\")\n",
    "        rank = QTableWidgetItem(ran)\n",
    "        title = QTableWidgetItem(titl)\n",
    "        point = QTableWidgetItem(poin)\n",
    "\n",
    "        self.tableWidget.setItem(i, 0, service)\n",
    "        self.tableWidget.setItem(i, 1, rank)\n",
    "        self.tableWidget.setItem(i, 2, title)\n",
    "        self.tableWidget.setItem(i, 3, point)\n",
    "    \n",
    "        ran += 1\n"
   ]
  },
  {
   "cell_type": "code",
   "execution_count": 1,
   "metadata": {},
   "outputs": [
    {
     "name": "stderr",
     "output_type": "stream",
     "text": [
      "C:\\Users\\PC\\AppData\\Local\\Temp\\ipykernel_44220\\336535913.py:12: DeprecationWarning: executable_path has been deprecated, please pass in a Service object\n",
      "  driver = webdriver.Chrome('chromedriver.exe')\n"
     ]
    },
    {
     "data": {
      "text/plain": [
       "0"
      ]
     },
     "execution_count": 1,
     "metadata": {},
     "output_type": "execute_result"
    }
   ],
   "source": [
    "import sys                      # 시스템 접근 모듈\n",
    "from PyQt5.QtWidgets import *   # ui의 widjet 접근 모듈\n",
    "from PyQt5 import uic           # ui 사용 모듈\n",
    "from PyQt5.QtCore import *      # 타이머\n",
    "from PyQt5.QtGui import QIcon\n",
    "\n",
    "import requests\n",
    "from selenium import webdriver\n",
    "from bs4 import BeautifulSoup as bs\n",
    "import time\n",
    "\n",
    "driver = webdriver.Chrome('chromedriver.exe')\n",
    "\n",
    "form_class = uic.loadUiType(\"movie.ui\")[0] # [0] 꼭 입력\n",
    "\n",
    "class MyWindow(QMainWindow, form_class):\n",
    "    def __init__(self):      # 생성자\n",
    "        super().__init__()   # 부모의 생성자 사용\n",
    "        self.setupUi(self)   # ui 활성화\n",
    "        self.setWindowIcon(QIcon('web.png'))\n",
    "\n",
    "        self.pushButton.clicked.connect(self.btn_clicked)\n",
    "\n",
    "    def btn_clicked(self) :\n",
    "        driver.get('https://movie.naver.com/movie/sdb/rank/rmovie.naver?sel=cur&date=20220608')\n",
    "\n",
    "        response = driver.page_source\n",
    "        soup = bs(response)\n",
    "\n",
    "        movies = soup.select('td.title')\n",
    "        points = soup.select('td.point')\n",
    "\n",
    "        ran = 1\n",
    "\n",
    "        for i in range(len(movies)):\n",
    "            titl = movies[i].text.strip()\n",
    "            poin = points[i].text.strip()\n",
    "\n",
    "            rank = QTableWidgetItem(str(ran))\n",
    "            title = QTableWidgetItem(titl)\n",
    "            point = QTableWidgetItem(poin)\n",
    "\n",
    "            self.tableWidget.setItem(i, 0, rank)\n",
    "            self.tableWidget.setItem(i, 1, title)\n",
    "            self.tableWidget.setItem(i, 2, point)\n",
    "\n",
    "            ran += 1\n",
    "\n",
    "app = QApplication(sys.argv) # 창 객체 생성\n",
    "window = MyWindow()          # 창 생성\n",
    "window.show()                # 창 띄우기\n",
    "app.exec_()                  # 창 계속 유지\n",
    "\n"
   ]
  }
 ],
 "metadata": {
  "interpreter": {
   "hash": "c469c999aae2bf6d578d6881606ced546d1546d312a4811937df5b24665ee8bc"
  },
  "kernelspec": {
   "display_name": "Python 3.9.12 ('base')",
   "language": "python",
   "name": "python3"
  },
  "language_info": {
   "codemirror_mode": {
    "name": "ipython",
    "version": 3
   },
   "file_extension": ".py",
   "mimetype": "text/x-python",
   "name": "python",
   "nbconvert_exporter": "python",
   "pygments_lexer": "ipython3",
   "version": "3.9.12"
  },
  "orig_nbformat": 4
 },
 "nbformat": 4,
 "nbformat_minor": 2
}
