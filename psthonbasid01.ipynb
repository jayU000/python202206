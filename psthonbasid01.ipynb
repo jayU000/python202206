{
  "nbformat": 4,
  "nbformat_minor": 0,
  "metadata": {
    "colab": {
      "name": "psthonbasid01.ipynb",
      "provenance": [],
      "collapsed_sections": [],
      "authorship_tag": "ABX9TyOrZJLVntfkg2utEplBESYf",
      "include_colab_link": true
    },
    "kernelspec": {
      "name": "python3",
      "display_name": "Python 3"
    },
    "language_info": {
      "name": "python"
    }
  },
  "cells": [
    {
      "cell_type": "markdown",
      "metadata": {
        "id": "view-in-github",
        "colab_type": "text"
      },
      "source": [
        "<a href=\"https://colab.research.google.com/github/jayU000/python202206/blob/main/psthonbasid01.ipynb\" target=\"_parent\"><img src=\"https://colab.research.google.com/assets/colab-badge.svg\" alt=\"Open In Colab\"/></a>"
      ]
    },
    {
      "cell_type": "code",
      "execution_count": 1,
      "metadata": {
        "colab": {
          "base_uri": "https://localhost:8080/"
        },
        "id": "0S92PR8QAKXB",
        "outputId": "24895961-4d5a-418f-d93d-b57b8c791408"
      },
      "outputs": [
        {
          "output_type": "stream",
          "name": "stdout",
          "text": [
            "Hello World\n"
          ]
        }
      ],
      "source": [
        "print(\"Hello World\")\n",
        "\n",
        "# 1. 기본 - 소개/ 역사/ 특징 About Python\n",
        "# 2. 개발환경 - 온라인 개발환경 Online IDE\n",
        "# 3. 개발환경 - 오프라인 개발환경 Offline IDE\n",
        "# 4. 개발환경 - Hello World\n",
        "# 5. Awesome Tips\n",
        "\n",
        "# 6. 기초 - 주석/변수 comment/Variable\n",
        "# 7. 기초 - 기본 자료형 Data Type\n"
      ]
    },
    {
      "cell_type": "code",
      "source": [
        "# 기본 - 소개/ 역사/ 특징 About Python\n",
        "\n",
        "# 컴파일러 :자바 C, C++\n",
        "# 인터프리터 : 파이썬, R\n",
        "\n",
        "# 파이썬은 영어와 문법이 아주 유사하여 사람이 이해하기 쉽다.\n",
        "# 많은 개발자가 참여하여 무료로 공유되는 코드가 많다.\n",
        "\n",
        "# 창시자 - 귀도반로썸 (1956~ ), 네덜란드 구글 -> 드랍박스(클라우드 원조) -> 마이크로소프트(2020~ )\n",
        "\n",
        "# 1. 사용이 쉽다\n",
        "# 2. 강력하자.\n",
        "# 3. 객체지향언어\n",
        "# 4. 어디서나 실행된다.\n",
        "# 5. 사용자가 많다.\n",
        "# 6. 무료다.\n"
      ],
      "metadata": {
        "id": "fjeVSps4TTn4"
      },
      "execution_count": null,
      "outputs": []
    },
    {
      "cell_type": "code",
      "source": [
        "# 개발환경 - 온라인 개발환경 Online IDE \n",
        "# (코랩 , 리플릿(자바도 돌릴 수 있음))\n",
        "\n",
        "# Colab\n",
        "# repl\n"
      ],
      "metadata": {
        "id": "NtvLUkLOU4ac"
      },
      "execution_count": null,
      "outputs": []
    },
    {
      "cell_type": "code",
      "source": [
        "# 3. 개발환경 - 오프라인 개발환경 Offline IDE\n",
        "\n",
        "# FM : 파이썬 -> 파이참(ide) \n",
        "# Anaconda : 파이썬 + jupiter Notebook (ide) + a,b,c\n"
      ],
      "metadata": {
        "id": "AGLowKudV7Dx"
      },
      "execution_count": null,
      "outputs": []
    },
    {
      "cell_type": "code",
      "source": [
        "# 4. 개발환경 - Hello World\n",
        "\n",
        "print(\"Hello World\")"
      ],
      "metadata": {
        "colab": {
          "base_uri": "https://localhost:8080/"
        },
        "id": "-XpwLu-UcaRH",
        "outputId": "1a4683a2-91f2-4cd9-a874-a9f51edab283"
      },
      "execution_count": 1,
      "outputs": [
        {
          "output_type": "stream",
          "name": "stdout",
          "text": [
            "Hello World\n"
          ]
        }
      ]
    },
    {
      "cell_type": "code",
      "source": [
        "# 6. 기초 - 주석/변수 comment/Variable\n",
        "\n",
        "# 자바에서의 주석 //    /*  */    처럼 파이썬에서는 #을 주석 기호로 사용한다.\n",
        "\n",
        "# \"\"\" \"\"\"   삼중 따옴표로 여러줄 주석처럼 사용한다.   -> docstring : 파이썬이 인식은 하지만 아무런 동작은 안 함. 실제 주석은 아니지만 주석처럼 사용가능.\n",
        "# 파이썬의 실제 주석은 #만 존재\n",
        "\n",
        "\"\"\"\n",
        "프로그램 버전 : 0.1\n",
        "프로그램 작성자 : 홍길동\n",
        "프로그램 작성일 : 2002/05/31\n",
        "\"\"\"\n",
        "\n",
        "# 프로그램 버전 : 0.1\n",
        "# 프로그램 작성자 : 홍길동\n",
        "# 프로그램 작성일 : 2002/05/31\n",
        "\n",
        "# 구문의 상단에 삽입\n",
        "print(\"Hello World\")  # 구문의 우측에 삽입\n",
        "# 구문의 하단에 삽입\n",
        "\n",
        "\n",
        "# 주석의 다른 용법 : 원래 주석의 기본적인 의미는 코드에 대한 설명\n",
        "#                     주석의 또다른 중요한 용법은 코드의 일부를 일시 정지시키는 용도\n",
        "\n",
        "print(\"Hello\")\n",
        "#print(\"World\") # 코드에 주석을 사용하여 임시로 동작을 하지 않게 만드는 역할\n",
        "print('Python') # 파이썬에서는 작은 따옴표('')와 큰 따옴표(\"\")가 동일하게 사용된다.\n",
        "\n",
        "print(\"Aytisy's pie\") # 기호로써의 '를 표시하고 싶을 때는 \"\"를 사용하려 열고 닫는다.\n",
        "print('Aytisy\\'s pie')\n"
      ],
      "metadata": {
        "colab": {
          "base_uri": "https://localhost:8080/"
        },
        "id": "XP2TJPHPci95",
        "outputId": "505719cd-3a0c-4a1a-876c-9e2baef6afbd"
      },
      "execution_count": 7,
      "outputs": [
        {
          "output_type": "stream",
          "name": "stdout",
          "text": [
            "Hello World\n",
            "Hello\n",
            "Python\n",
            "Aytisy's pie\n",
            "Aytisy's pie\n"
          ]
        }
      ]
    },
    {
      "cell_type": "code",
      "source": [
        "# 7. 기초 - 기본 자료형 Data Type\n",
        "\n",
        "# 자바나 씨 등의 언어와는 달리 변수를 선언할 때 앞에서 type을 정해주지 않는다.\n",
        "# 선언과 동시에 파이썬이 데이터를 스스로 정수인지 문자열인지 판단을 하려 저장한다.\n",
        "\n",
        "\n",
        "# Java 문법\n",
        "#int age = 21;\n",
        "\n",
        "# 파이썬 문법\n",
        "age = 21\n",
        "name = \"홍길동\"\n",
        "\n",
        "age, name = 21, \"홍길동\"\n",
        "\n",
        "print(type(age))\n",
        "type(name)\n",
        "\n",
        "# 변수명 선언 방법/규칙\n",
        "\n",
        "# 1. 문자 숫자 _ 만 사용\n",
        "# 2. 숫자로 시작할 수는 없다. A100(o) 100A(x) _100(o)\n",
        "# 3. 예약어는 사용할 수 없다. print, class ...\n",
        "# 4. 대소문자를 구분한다. a = 100, A = 100 별개의 변수\n",
        "# 5. 변수명은 영어로만 만들자. (한글로도 만들 수도 있다...)\n",
        "\n",
        "\n"
      ],
      "metadata": {
        "colab": {
          "base_uri": "https://localhost:8080/"
        },
        "id": "QmLPnqdHibqX",
        "outputId": "cd52062a-80e3-4b31-e8a4-3182bcbc32f0"
      },
      "execution_count": 6,
      "outputs": [
        {
          "output_type": "stream",
          "name": "stdout",
          "text": [
            "<class 'int'>\n"
          ]
        },
        {
          "output_type": "execute_result",
          "data": {
            "text/plain": [
              "str"
            ]
          },
          "metadata": {},
          "execution_count": 6
        }
      ]
    },
    {
      "cell_type": "code",
      "source": [
        "# 예제 1 \n",
        "\n",
        "# 다음 중 틀린 것을 고르시오.     -> 4\n",
        "\n",
        "# 1. a100 = '기획부'\n",
        "# 2. 부서명 =\"영업부\"\n",
        "# 3. _200 = \"관리부\"\n",
        "# 4. print = \"광고부\""
      ],
      "metadata": {
        "id": "fY6bXe3enmwb"
      },
      "execution_count": null,
      "outputs": []
    },
    {
      "cell_type": "code",
      "source": [
        "# 예제 2\n",
        "\n",
        "# 출력 결과를 예상하여 알맞은 결과를 고르시오.    -> 1\n",
        "# a = 100\n",
        "# A = 200\n",
        "# print(a)\n",
        "\n",
        "\n",
        "# 1 100\n",
        "# 2 200\n",
        "# 3 300\n",
        "# 4 None"
      ],
      "metadata": {
        "id": "1VtVNXptoh2H"
      },
      "execution_count": null,
      "outputs": []
    },
    {
      "cell_type": "code",
      "source": [
        "# 예제 3\n",
        "\n",
        "# korea 이라는 변수명에 주식가격인 63000 을 할당하고, \n",
        "# 100 주를 보유하고 있을 때 평가 금액을 계산하시오.\n",
        "\n",
        "#answer\n",
        "korea = 63000\n",
        "total = korea * 100\n",
        "print(total)"
      ],
      "metadata": {
        "colab": {
          "base_uri": "https://localhost:8080/"
        },
        "id": "SHxJVubRoKHC",
        "outputId": "33613bb7-53ae-49a7-a36d-92878b759228"
      },
      "execution_count": 8,
      "outputs": [
        {
          "output_type": "stream",
          "name": "stdout",
          "text": [
            "6300000\n"
          ]
        }
      ]
    },
    {
      "cell_type": "code",
      "source": [
        "# 7. 기초 - 기본 자료형 Data Type\n",
        "\n",
        "# 숫자형\n",
        "\n",
        "a = 3\n",
        "b = 3.141592\n",
        "c = -2\n",
        "\n",
        "print(type(a), type(b))\n",
        "type(c)"
      ],
      "metadata": {
        "colab": {
          "base_uri": "https://localhost:8080/"
        },
        "id": "Ksi5keg4s_oT",
        "outputId": "fde848f5-eef2-4bf5-e631-5f2a04f35c20"
      },
      "execution_count": 11,
      "outputs": [
        {
          "output_type": "stream",
          "name": "stdout",
          "text": [
            "<class 'int'> <class 'float'>\n"
          ]
        },
        {
          "output_type": "execute_result",
          "data": {
            "text/plain": [
              "int"
            ]
          },
          "metadata": {},
          "execution_count": 11
        }
      ]
    },
    {
      "cell_type": "code",
      "source": [
        "43 / 4\n"
      ],
      "metadata": {
        "colab": {
          "base_uri": "https://localhost:8080/"
        },
        "id": "cG26rFG9tYsU",
        "outputId": "b012bc67-1c15-4a2d-a4ea-93a2b6a95814"
      },
      "execution_count": 12,
      "outputs": [
        {
          "output_type": "execute_result",
          "data": {
            "text/plain": [
              "10.75"
            ]
          },
          "metadata": {},
          "execution_count": 12
        }
      ]
    },
    {
      "cell_type": "code",
      "source": [
        "43 // 4"
      ],
      "metadata": {
        "colab": {
          "base_uri": "https://localhost:8080/"
        },
        "id": "1q6bBOPitdGp",
        "outputId": "1b25abae-cdfc-430a-ab2b-7c452ed2ddb4"
      },
      "execution_count": 13,
      "outputs": [
        {
          "output_type": "execute_result",
          "data": {
            "text/plain": [
              "10"
            ]
          },
          "metadata": {},
          "execution_count": 13
        }
      ]
    },
    {
      "cell_type": "code",
      "source": [
        "43 % 4  # 나머지 연산자로 헐수/짝수/배수 를 알아낼 수 있다."
      ],
      "metadata": {
        "colab": {
          "base_uri": "https://localhost:8080/"
        },
        "id": "eQWmkdx1thDn",
        "outputId": "548c76ad-2770-4168-a06f-e54e36408d1d"
      },
      "execution_count": 14,
      "outputs": [
        {
          "output_type": "execute_result",
          "data": {
            "text/plain": [
              "3"
            ]
          },
          "metadata": {},
          "execution_count": 14
        }
      ]
    },
    {
      "cell_type": "code",
      "source": [
        "print(43%4)"
      ],
      "metadata": {
        "colab": {
          "base_uri": "https://localhost:8080/"
        },
        "id": "mpa9obv7thzY",
        "outputId": "6fa12793-4517-4194-aa7e-bc8a4d94eddc"
      },
      "execution_count": 15,
      "outputs": [
        {
          "output_type": "stream",
          "name": "stdout",
          "text": [
            "3\n"
          ]
        }
      ]
    },
    {
      "cell_type": "code",
      "source": [
        "# 불형 boll or boolean -> True False    주의 : true false 와는 다르다.\n",
        "\n",
        "print(1 == 1)\n",
        "print(1 != 1)"
      ],
      "metadata": {
        "colab": {
          "base_uri": "https://localhost:8080/"
        },
        "id": "mnkHWXQkt2qy",
        "outputId": "6fe9fdd8-2cce-492b-fc4b-858b33dd26d8"
      },
      "execution_count": 18,
      "outputs": [
        {
          "output_type": "stream",
          "name": "stdout",
          "text": [
            "True\n",
            "False\n"
          ]
        }
      ]
    },
    {
      "cell_type": "code",
      "source": [
        "# 문자열...\n",
        "\n",
        "name1 = \"Austin\"\n",
        "name2 = 'Austin'\n",
        "# 큰 따옴표와 작은 따옴표는 모두 문자열을 나타낸다.\n",
        "\n",
        "age1 = \"30\"\n",
        "# 숫자라도 따옴표가 있으면 문자로 처리된다.\n",
        "\n",
        "age2 = 30\n",
        "print(type(age1), type(age2))\n",
        "\n",
        "\n",
        "# 문자열에서의 인덱싱 - 몇 번째 글자 하나\n",
        "words = \"I love you\" # indexing : 문자열에서 글자 하나만 추출 -> v\n",
        "print(words[4])\n",
        "\n",
        "# 파이썬에서의 독특한 인덱싱 방법, 마지막 한글자만 추출. 뒤부터는 -1부터 센다.\n",
        "print(words[-1])\n",
        "\n",
        "\n",
        "# 문자열에서의 슬라이싱 - 글자 여러 개\n",
        "words[2:6]    # [시작: 끝(미만)]  [시작:끝:증감]    [start:stop:step]\n",
        "words[2:6:1]  # step을 생략하면 1\n",
        "print(words[:6])  # 시작을 생략하면 0부터 시작\n",
        "print(words[2:])  # 끝을 생략하면 마지막까지\n",
        "print(words[::2]) # 하나씩 건너 띄고 인쇄\n",
        "\n",
        "# 문자열에서의 인덱싱과 슬라이싱 기법은 그대로 리스트와 튜플에서도 동일하게 사용된다.\n",
        "\n",
        "\n",
        "word =\"LOVE\"\n",
        "print(word[::-1])\n",
        "\n",
        "statement = 'He is good. All the time'\n",
        "print(statement[-4:])"
      ],
      "metadata": {
        "colab": {
          "base_uri": "https://localhost:8080/"
        },
        "id": "rjmebgiVvImP",
        "outputId": "200af876-b551-4b90-db8c-9ac7706d6a03"
      },
      "execution_count": 42,
      "outputs": [
        {
          "output_type": "stream",
          "name": "stdout",
          "text": [
            "<class 'str'> <class 'int'>\n",
            "v\n",
            "u\n",
            "I love\n",
            "love you\n",
            "Ilv o\n",
            "EVOL\n",
            "time\n"
          ]
        }
      ]
    },
    {
      "cell_type": "code",
      "source": [
        "# 출력 print\n",
        "\n",
        "statement = 'He is good. All the time'\n",
        "print(statement)\n",
        "\n",
        "who = \"He\"\n",
        "print(who, \"is good, All the time\")\n",
        "\n",
        "who = \"He\"\n",
        "print(who + \" is good, All the time\")\n",
        "\n",
        "who = \"He\"\n",
        "print(\"%s is good, All the time\" % who)\n",
        "\n",
        "who = \"He\"\n",
        "print(\"{} is good, All the time\" .format(who))\n",
        "\n",
        "who = \"He\"\n",
        "print(f\"{who} is good, All the time\")\n",
        "\n",
        "name = \"홍길동\"\n",
        "age = 20\n",
        "\n",
        "print(\"나의 이름은 홍길동이며 나이는 20살입니다.\")\n",
        "print(\"나의 이름은 %s이며 나이는 %s살입니다.\" %(name, age))\n",
        "print(\"나의 이름은 {}이며 나이는 {}살입니다.\" .format(name, age))\n",
        "print(f\"나의 이름은 {name}이며 나이는 {age}살입니다.\")"
      ],
      "metadata": {
        "colab": {
          "base_uri": "https://localhost:8080/"
        },
        "id": "Ald-TY8x0cqq",
        "outputId": "abd9e078-8d9c-4ff4-8dd3-829cb71f9440"
      },
      "execution_count": 61,
      "outputs": [
        {
          "output_type": "stream",
          "name": "stdout",
          "text": [
            "He is good. All the time\n",
            "He is good, All the time\n",
            "He is good, All the time\n",
            "He is good, All the time\n",
            "He is good, All the time\n",
            "He is good, All the time\n",
            "나의 이름은 홍길동이며 나이는 20살입니다.\n",
            "나의 이름은 홍길동이며 나이는 20살입니다.\n",
            "나의 이름은 홍길동이며 나이는 20살입니다.\n",
            "나의 이름은 홍길동이며 나이는 20살입니다.\n"
          ]
        }
      ]
    }
  ]
}