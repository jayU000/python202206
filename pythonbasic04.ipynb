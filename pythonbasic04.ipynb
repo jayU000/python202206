{
 "cells": [
  {
   "cell_type": "markdown",
   "metadata": {},
   "source": [
    "# 파일 읽고 쓰기\n",
    "\n",
    "# 파일 생성\n",
    "f = open('새파일.txt', 'w')  # 새로운 파일 생성\n",
    "f.close()                   # 항상 사용 후 닫아준다.\n",
    "\n",
    "# 파일객체 = open('파일명', '열기모드')\n",
    "\n",
    "# 열기 모드 w - 쓰기모드, r - 읽기모드. a - 추가모드\n",
    "\n"
   ]
  },
  {
   "cell_type": "code",
   "execution_count": 4,
   "metadata": {},
   "outputs": [],
   "source": [
    "f = open('exam.txt','w') \n",
    "\n",
    "for i in range(1,11) : \n",
    "    f.write(f\"line {i} \\n\") \n",
    "\n",
    "f.close() \n"
   ]
  },
  {
   "cell_type": "code",
   "execution_count": 10,
   "metadata": {},
   "outputs": [
    {
     "name": "stdout",
     "output_type": "stream",
     "text": [
      "line 1 \n",
      "\n",
      "line 1 \n",
      "\n",
      "line 2 \n",
      "\n",
      "line 3 \n",
      "\n",
      "line 4 \n",
      "\n",
      "line 5 \n",
      "\n",
      "line 6 \n",
      "\n",
      "line 7 \n",
      "\n",
      "line 8 \n",
      "\n",
      "line 9 \n",
      "\n",
      "line 10 \n",
      "\n"
     ]
    }
   ],
   "source": [
    "# 파일을 열어서 데이터 읽어오고 닫기\n",
    "\n",
    "# 한 줄 읽기\n",
    "f = open('exam.txt', 'r')\n",
    "\n",
    "line = f.readline()\n",
    "print(line)\n",
    "\n",
    "f.close()\n",
    "\n",
    "\n",
    "# 모든 줄 다 읽기\n",
    "\n",
    "f = open('exam.txt', 'r')\n",
    "\n",
    "while True :\n",
    "    line = f.readline()\n",
    "    if not line: break\n",
    "    print(line)\n",
    "\n",
    "f.close()"
   ]
  },
  {
   "cell_type": "code",
   "execution_count": 11,
   "metadata": {},
   "outputs": [],
   "source": [
    "f = open('test.txt', 'w')\n",
    "f.close()\n",
    "\n",
    "# 지금까지 사용한 위의 문법은 사용 후 항상 닫아줘야헸다.\n",
    "\n",
    "with open('test.txt', 'w') as f :\n",
    "    f.write ('Hi there...')\n",
    "\n",
    "# with문을 사용하면 close를 사용하지 않아도 된다.\n",
    "# with문을 벗어나는 순간 객체가 자동으로 close된다.\n"
   ]
  },
  {
   "cell_type": "code",
   "execution_count": null,
   "metadata": {},
   "outputs": [],
   "source": [
    "# 상기 내용은 파일 입출력의 가장 기본적인 내용이고\n",
    "# 실제 데이터 분석시에는 pandas를 사용하여 엑셀, 텍스트\n",
    "# 등을 읽어오고 저장하는 방식을 주로 사용하게 될 것이다."
   ]
  },
  {
   "cell_type": "code",
   "execution_count": 22,
   "metadata": {},
   "outputs": [
    {
     "name": "stdout",
     "output_type": "stream",
     "text": [
      "7\n",
      "2\n",
      "8\n",
      "3\n",
      "2\n"
     ]
    }
   ],
   "source": [
    "# 모듈  module  \n",
    "\n",
    "# 모듈을 직접 만들어서 사용할 수는 있지만 대부분 모듈을 가져다가 사용하게 된다. \n",
    "# 하지만 직접 만들어보면 이해도를 높일 수 있으므로 제작해 보자.\n",
    "\n",
    "# 모듈은 함수, 변수 등을 모아 놓은 파일이다. 모듈은 다른 파이선 파일에서 불러와서 사용할 수 있게 만든 파이썬 파일이다.\n",
    "# 파이썬으로 프로그래밍을 할 대 굉장히 많이 모듈을 불러와 사용하게 된다.\n",
    "\n",
    "# 라이브러리는 모듈의 모음이다.\n",
    "# 함수, 변수, 클래스 등 -> 모듈(.py) -> 라이브러리\n",
    "\n",
    "import mod1     # 모듈 읽어오기, 확장자는 생략한다.\n",
    "\n",
    "print(mod1.add(3,4))\n",
    "print(mod1.sub(4,2))\n",
    "\n",
    "# 모듈에 있는 함수를 가져다가 쓸 때마다 '모듈명.함수명'을 쓰기는 길다.\n",
    "\n",
    "# import mod1\n",
    "# 사용할 때마다 귀찮게 도뮬명을 붙여야 한다.\n",
    "\n",
    "from mod1 import add, sub\n",
    "\n",
    "print(add(3,5))\n",
    "print(sub(4,1))\n",
    "\n",
    "# from 모듈명 import 함수명 \n",
    "# 모듈명 없이 함수를 사용할 수 있다.\n",
    "# from 모듈명 import * \n",
    "# 사용할 함수가 많으면 *을 사용해서 모든 함수를 가져온다.\n",
    "\n",
    "from mod1 import *\n",
    "print(sub(3,1))\n",
    "\n"
   ]
  },
  {
   "cell_type": "code",
   "execution_count": 25,
   "metadata": {},
   "outputs": [],
   "source": [
    "import pandas as pd     # 모듈명을 줄여서 사용\n",
    "import numpy as np\n",
    "import matplotlib as plt\n",
    "import seaborn as sns\n",
    "\n",
    "import sklearn\n",
    "\n",
    "# !pip install 설치할 모듈명\n",
    "# 설치가 안 된 모듈은 아래의 명령어로 설치한 후 import 한다.\n"
   ]
  },
  {
   "cell_type": "code",
   "execution_count": 31,
   "metadata": {},
   "outputs": [],
   "source": [
    "# 예외 처리\n",
    "\n",
    "# 오류없는 프로그램은 없다. 오류를 적절하게 처리해주는 방법이 필요하다.\n",
    "\n",
    "# 4/0\n",
    "# 0으로 나눌 경우에는 언제나 오류가 즉 예외가 발생한다.\n",
    "\n",
    "# a = [1,2,3]\n",
    "# a[3]\n",
    "# 없는 인덱스를 지정할 경우 오류가 즉 예외가 발생한다.\n",
    "\n"
   ]
  },
  {
   "cell_type": "code",
   "execution_count": 33,
   "metadata": {},
   "outputs": [
    {
     "name": "stdout",
     "output_type": "stream",
     "text": [
      "에러가 발생했습니다.\n"
     ]
    }
   ],
   "source": [
    "# try except\n",
    "\n",
    "try:\n",
    "    4 / 0   # 에러 발생이 될 수도 있는 구문\n",
    "except :\n",
    "    print('에러가 발생했습니다.')   # try문에서 에러가 발생할 때 실행할 구문\n",
    "\n",
    "\n",
    "    "
   ]
  },
  {
   "cell_type": "code",
   "execution_count": 34,
   "metadata": {},
   "outputs": [
    {
     "name": "stdout",
     "output_type": "stream",
     "text": [
      "에러가 발생했습니다.\n",
      "언제나 마지막에 실행하게 되는 행\n"
     ]
    }
   ],
   "source": [
    "# try except finally\n",
    "\n",
    "try:\n",
    "    4 / 0   # 에러 발생이 될 수도 있는 구문\n",
    "except :\n",
    "    print('에러가 발생했습니다.')   # try문에서 에러가 발생할 때 실행할 구문\n",
    "finally :\n",
    "    print('언제나 마지막에 실행하게 되는 행')\n",
    "\n"
   ]
  },
  {
   "cell_type": "code",
   "execution_count": 35,
   "metadata": {},
   "outputs": [
    {
     "name": "stdout",
     "output_type": "stream",
     "text": [
      "list index out of range\n"
     ]
    }
   ],
   "source": [
    "try :\n",
    "    a = [1,2]\n",
    "    print(a[3])     # 예외 발생\n",
    "    4/0             # 예외 방생을 하게 되지만 그 전에 위에서 예외처리가 이루어진다. 아예 실행되지 않기 때문에 예외처리도 되지 않는다.\n",
    "except ZeroDivisionError as e :     # as e는 에러 방생 메세지를 e로 받는다.\n",
    "    print(e)\n",
    "except IndexError as e : \n",
    "    print(e)\n",
    "\n"
   ]
  },
  {
   "cell_type": "code",
   "execution_count": 41,
   "metadata": {},
   "outputs": [
    {
     "name": "stdout",
     "output_type": "stream",
     "text": [
      "당신의 나이는 20살이군요 ㅋㅋ\n",
      "프로그램을 종료합니다\n"
     ]
    }
   ],
   "source": [
    "# try except else finally\n",
    "# else와 finally는 생략 가능\n",
    "\n",
    "try :\n",
    "    age  = int(input('나이를 입력하세요 : '))\n",
    "except :                        # 오류가 발생할 경우에만\n",
    "    print('나이는 숫자로만 입력하세요')\n",
    "else :                          # 오류가 발생하지 않는 경우에만\n",
    "    print(f'당신의 나이는 {age}살이군요 ㅋㅋ')\n",
    "finally :                       # 언제나\n",
    "    print('프로그램을 종료합니다')\n",
    "\n"
   ]
  },
  {
   "cell_type": "code",
   "execution_count": 44,
   "metadata": {},
   "outputs": [
    {
     "ename": "NotImplementedError",
     "evalue": "",
     "output_type": "error",
     "traceback": [
      "\u001b[1;31m---------------------------------------------------------------------------\u001b[0m",
      "\u001b[1;31mNotImplementedError\u001b[0m                       Traceback (most recent call last)",
      "Input \u001b[1;32mIn [44]\u001b[0m, in \u001b[0;36m<cell line: 9>\u001b[1;34m()\u001b[0m\n\u001b[0;32m      6\u001b[0m         \u001b[38;5;66;03m# 에러 발생이 아닌 상황에서 에러를 강제로 발생시킴\u001b[39;00m\n\u001b[0;32m      8\u001b[0m a \u001b[38;5;241m=\u001b[39m Bird()\n\u001b[1;32m----> 9\u001b[0m \u001b[43ma\u001b[49m\u001b[38;5;241;43m.\u001b[39;49m\u001b[43mfly\u001b[49m\u001b[43m(\u001b[49m\u001b[43m)\u001b[49m\n",
      "Input \u001b[1;32mIn [44]\u001b[0m, in \u001b[0;36mBird.fly\u001b[1;34m(self)\u001b[0m\n\u001b[0;32m      4\u001b[0m \u001b[38;5;28;01mdef\u001b[39;00m \u001b[38;5;21mfly\u001b[39m(\u001b[38;5;28mself\u001b[39m) :\n\u001b[1;32m----> 5\u001b[0m     \u001b[38;5;28;01mraise\u001b[39;00m \u001b[38;5;167;01mNotImplementedError\u001b[39;00m\n",
      "\u001b[1;31mNotImplementedError\u001b[0m: "
     ]
    }
   ],
   "source": [
    "# 오류 강제 발생\n",
    "\n",
    "class Bird :\n",
    "    def fly(self) :\n",
    "        raise NotImplementedError       \n",
    "        # 에러 발생이 아닌 상황에서 에러를 강제로 발생시킴\n",
    "\n",
    "a = Bird()\n",
    "a.fly()\n",
    "\n",
    "# 함수의 구현을 당장 지금이 아닌 나중에 구현하고자 할 때\n",
    "# 임시로 에러를 강제로 발생하게 하여 까먹지 않고 나중에 만들게 할 수 있다.\n",
    "\n",
    "\n"
   ]
  },
  {
   "cell_type": "code",
   "execution_count": null,
   "metadata": {},
   "outputs": [],
   "source": [
    "# 크롤링 crawling \n",
    "# 인터넷에서 데이터를 긁어와서 분석하는 방법\n",
    "\n",
    "# ---------- 예제 1 (기본 크롤러) ----------\n",
    "# 1. 3대 음원 차트 크롤링 = 벅스 멜론 지니\n",
    "# 2. 네이버 영화 순위\n",
    "# 3. 오늘의 날씨\n",
    "\n",
    "# ---------- 예제 2 (윈도우 어플) ----------\n",
    "# 크롤링을 파이썬이 설치되지 않은 PC에서도 실행이 가능하도록 윈도우 앱으로 만들기\n",
    "# 코인 조회기 윈도우 앱 만들기\n"
   ]
  },
  {
   "cell_type": "code",
   "execution_count": 46,
   "metadata": {},
   "outputs": [],
   "source": [
    "# 크롤링 기본\n",
    "\n",
    "import requests\n",
    "from bs4 import BeautifulSoup as bs\n",
    "import pandas as pd\n",
    "\n",
    "response = requests.get('http://www.naver.com')     # 네이버에 연결하여 웹페이지 소스를 가져온다.\n",
    "# response.text\n",
    "\n",
    "\n",
    "\n"
   ]
  },
  {
   "cell_type": "code",
   "execution_count": 50,
   "metadata": {},
   "outputs": [
    {
     "data": {
      "text/plain": [
       "0"
      ]
     },
     "execution_count": 50,
     "metadata": {},
     "output_type": "execute_result"
    }
   ],
   "source": [
    "response = requests.get('https://music.bugs.co.kr/chart')   # 분석할 웹 페이지 가져오기\n",
    "soup = bs(response.text)                                    # 가져온 소스에 bs 정제\n",
    "\n",
    "# soup\n",
    "len(soup.select('tr'))     # select는 태그들을 선택 \n",
    "\n"
   ]
  },
  {
   "cell_type": "code",
   "execution_count": 51,
   "metadata": {},
   "outputs": [
    {
     "data": {
      "text/plain": [
       "103"
      ]
     },
     "execution_count": 51,
     "metadata": {},
     "output_type": "execute_result"
    }
   ],
   "source": [
    "len(soup.select('table > tbody > tr')) "
   ]
  },
  {
   "cell_type": "code",
   "execution_count": 52,
   "metadata": {},
   "outputs": [
    {
     "data": {
      "text/plain": [
       "100"
      ]
     },
     "execution_count": 52,
     "metadata": {},
     "output_type": "execute_result"
    }
   ],
   "source": [
    "len(soup.select('table.list.trackList.byChart > tbody > tr')) \n",
    "# class는 .으로 나타낸다. 클래스명의 띠어쓰기도 .으로 나타낸다.\n",
    "\n",
    "# 원하는 데이터들을 선택할 때는 css html 태그를 이용한다.\n",
    "# 태그의 포함 범위를 확장해나가면서 골라낸다."
   ]
  },
  {
   "cell_type": "code",
   "execution_count": 56,
   "metadata": {},
   "outputs": [
    {
     "name": "stdout",
     "output_type": "stream",
     "text": [
      "11\n"
     ]
    },
    {
     "data": {
      "text/plain": [
       "'IVE (아이브)'"
      ]
     },
     "execution_count": 56,
     "metadata": {},
     "output_type": "execute_result"
    }
   ],
   "source": [
    "songs = soup.select('table.list.trackList.byChart > tbody > tr')\n",
    "# 전체 코드에서 정확하게 100곡의 정보\n",
    "\n",
    "song = songs[0]\n",
    "# 100곡의 정보 중에서 1곡의 정보만 추출\n",
    "\n",
    "\n",
    "print(len(song.select('a')))\n",
    "# 코드를 확인해보면 노래 제목이 'a'태그에 들어가 있으므로 개수를 먼저 확인 -> 11개\n",
    "\n",
    "song.select('p.title > a')[0].text\n",
    "# 곡명 추출\n",
    "\n",
    "song.select('p.artist > a')[0].text\n",
    "# 가수명 추출\n",
    "\n",
    "song.select('div.ranking > strong')[0].text\n",
    "# 순위 추출\n"
   ]
  },
  {
   "cell_type": "code",
   "execution_count": 64,
   "metadata": {},
   "outputs": [],
   "source": [
    "songs = soup.select('table.list.trackList.byChart > tbody > tr')\n",
    "song_data = []\n",
    "\n",
    "\n",
    "for song in songs :                     # 강사님 코드\n",
    "# for i in range(len(songs)) :\n",
    "#     song = songs[i]\n",
    "    rank = song.select('div.ranking > strong')[0].text\n",
    "    title = song.select('p.title > a')[0].text\n",
    "    singer = song.select('p.artist > a')[0].text\n",
    "\n",
    "    song_data.append(['Bugs', rank, title, singer])\n",
    "\n",
    "\n",
    "df = pd.DataFrame(song_data, columns=['차트명', '순위', '타이틀', '가수'])\n",
    "\n",
    "df.to_excel('bugs.xlsx', index=False)\n"
   ]
  },
  {
   "cell_type": "code",
   "execution_count": 70,
   "metadata": {},
   "outputs": [
    {
     "name": "stdout",
     "output_type": "stream",
     "text": [
      "\n",
      "0\n"
     ]
    },
    {
     "ename": "IndexError",
     "evalue": "list index out of range",
     "output_type": "error",
     "traceback": [
      "\u001b[1;31m---------------------------------------------------------------------------\u001b[0m",
      "\u001b[1;31mIndexError\u001b[0m                                Traceback (most recent call last)",
      "Input \u001b[1;32mIn [70]\u001b[0m, in \u001b[0;36m<cell line: 7>\u001b[1;34m()\u001b[0m\n\u001b[0;32m      5\u001b[0m songs \u001b[38;5;241m=\u001b[39m soup\u001b[38;5;241m.\u001b[39mselect(\u001b[38;5;124m'\u001b[39m\u001b[38;5;124mtr.lst50\u001b[39m\u001b[38;5;124m'\u001b[39m)\n\u001b[0;32m      6\u001b[0m \u001b[38;5;28mprint\u001b[39m(\u001b[38;5;28mlen\u001b[39m(songs))\n\u001b[1;32m----> 7\u001b[0m song \u001b[38;5;241m=\u001b[39m \u001b[43msongs\u001b[49m\u001b[43m[\u001b[49m\u001b[38;5;241;43m0\u001b[39;49m\u001b[43m]\u001b[49m\n\u001b[0;32m      9\u001b[0m title \u001b[38;5;241m=\u001b[39m song\u001b[38;5;241m.\u001b[39mselect(\u001b[38;5;124m'\u001b[39m\u001b[38;5;124mdiv.ellipsis > span > a\u001b[39m\u001b[38;5;124m'\u001b[39m)[\u001b[38;5;241m0\u001b[39m]\u001b[38;5;241m.\u001b[39mtext\n\u001b[0;32m     10\u001b[0m \u001b[38;5;66;03m# 곡명 추출\u001b[39;00m\n\u001b[0;32m     11\u001b[0m \n\u001b[0;32m     12\u001b[0m \u001b[38;5;66;03m# song.select('p.artist > a')[0].text\u001b[39;00m\n\u001b[1;32m   (...)\u001b[0m\n\u001b[0;32m     15\u001b[0m \u001b[38;5;66;03m# song.select('div.ellipsis > span > a')[0].text\u001b[39;00m\n\u001b[0;32m     16\u001b[0m \u001b[38;5;66;03m# # 순위 추출\u001b[39;00m\n",
      "\u001b[1;31mIndexError\u001b[0m: list index out of range"
     ]
    }
   ],
   "source": [
    "response = requests.get('https://www.melon.com/chart/index.htm')   # 분석할 웹 페이지 가져오기\n",
    "soup = bs(response.text)      \n",
    "print(soup)\n",
    "\n",
    "songs = soup.select('tr.lst50')\n",
    "print(len(songs))\n",
    "song = songs[0]\n",
    "\n",
    "title = song.select('div.ellipsis > span > a')[0].text\n",
    "# 곡명 추출\n",
    "\n",
    "song.select('p.artist > a')[0].text\n",
    "# 가수명 추출\n",
    "\n",
    "song.select('div.ellipsis > span > a')[0].text\n",
    "# 순위 추출\n",
    "\n",
    "print(title)"
   ]
  },
  {
   "cell_type": "code",
   "execution_count": 12,
   "metadata": {},
   "outputs": [
    {
     "name": "stderr",
     "output_type": "stream",
     "text": [
      "C:\\Users\\PC\\AppData\\Local\\Temp\\ipykernel_39436\\2525182852.py:11: DeprecationWarning: executable_path has been deprecated, please pass in a Service object\n",
      "  driver = webdriver.Chrome('chromedriver.exe')\n"
     ]
    },
    {
     "name": "stdout",
     "output_type": "stream",
     "text": [
      "[['Melon', '1', 'That That (prod. & feat. SUGA of BTS)', '싸이 (PSY)'], ['Melon', '2', 'TOMBOY', '(여자)아이들'], ['Melon', '3', 'LOVE DIVE', 'IVE (아이브)'], ['Melon', '4', '사랑인가 봐', '멜로망스'], ['Melon', '5', '봄여름가을겨울 (Still Life)', 'BIGBANG (빅뱅)'], ['Melon', '6', '사랑은 늘 도망가', '임영웅'], ['Melon', '7', '정이라고 하자 (Feat. 10CM)', 'BIG Naughty (서동현)'], ['Melon', '8', '우리들의 블루스', '임영웅'], ['Melon', '9', '나의 X에게', '경서'], ['Melon', '10', 'FEARLESS', 'LE SSERAFIM (르세라핌)'], ['Melon', '11', '다시 만날 수 있을까', '임영웅'], ['Melon', '12', 'LOVE me', \"BE'O (비오)\"], ['Melon', '13', 'Feel My Rhythm', 'Red Velvet (레드벨벳)'], ['Melon', '14', '취중고백', '김민석 (멜로망스)'], ['Melon', '15', 'GANADARA (Feat. 아이유)', '박재범'], ['Melon', '16', '이제 나만 믿어요', '임영웅'], ['Melon', '17', '무지개', '임영웅'], ['Melon', '18', 'HOT', '세븐틴'], ['Melon', '19', '아버지', '임영웅'], ['Melon', '20', '신호등', '이무진'], ['Melon', '21', 'ZOOM', '제시 (Jessi)'], ['Melon', '22', '손이 참 곱던 그대', '임영웅'], ['Melon', '23', '다정히 내 이름을 부르면', '경서예지'], ['Melon', '24', 'INVU', '태연 (TAEYEON)'], ['Melon', '25', 'A bientot', '임영웅'], ['Melon', '26', '사랑해 진짜', '임영웅'], ['Melon', '27', 'ELEVEN', 'IVE (아이브)'], ['Melon', '28', 'Beatbox', 'NCT DREAM'], ['Melon', '29', '듣고 싶을까', 'MSG워너비(M.O.M)'], ['Melon', '30', '인생찬가', '임영웅'], ['Melon', '31', '연애편지', '임영웅'], ['Melon', '32', 'MY BAG', '(여자)아이들'], ['Melon', '33', '내가 아니라도', '주호'], ['Melon', '34', '사랑역', '임영웅'], ['Melon', '35', 'STAY', 'The Kid LAROI'], ['Melon', '36', 'Darl+ing', '세븐틴'], ['Melon', '37', \"That's Hilarious\", 'Charlie Puth'], ['Melon', '38', '늦은 밤 헤어지긴 너무 아쉬워', '케이시 (Kassy)'], ['Melon', '39', '사랑해요 그대를', '임영웅'], ['Melon', '40', '보금자리', '임영웅'], ['Melon', '41', 'Dynamite', '방탄소년단'], ['Melon', '42', '너를 생각해', '주시크 (Joosiq)'], ['Melon', '43', 'Weekend', '태연 (TAEYEON)'], ['Melon', '44', 'Next Level', 'aespa'], ['Melon', '45', 'Butter', '방탄소년단'], ['Melon', '46', '언제나 사랑해', '케이시 (Kassy)'], ['Melon', '47', '아무래도 난', '주시크 (Joosiq)'], ['Melon', '48', '회전목마 (Feat. Zion.T, 원슈타인) (Prod. Slom)', 'sokodomo'], ['Melon', '49', 'SMILEY (Feat. BIBI)', 'YENA (최예나)'], ['Melon', '50', '너의 모든 순간', '성시경']]\n"
     ]
    }
   ],
   "source": [
    "# 멜론과 지니의 경우 벅스와는 달리 페이지 소스 크롤링을 보안상의 이유로 거부한다.\n",
    "# 따라서 페이지 소스를 서버에서 넘겨 받지 말고 (거부하기 때문에)\n",
    "# 브라우저로 날라온 소스를 크롤링한다.\n",
    "\n",
    "# !pip install selenium\n",
    "\n",
    "from selenium import webdriver\n",
    "from bs4 import BeautifulSoup as bs\n",
    "import pandas as pd\n",
    "\n",
    "driver = webdriver.Chrome('chromedriver.exe')\n",
    "\n",
    "driver.get('https://www.melon.com/chart/index.htm')\n",
    "response = driver.page_source\n",
    "soup = bs(response)\n",
    "soup\n",
    "\n",
    "\n",
    "# song = songs[0]\n",
    "\n",
    "# title = song.select('div.ellipsis > span > a')[0].text\n",
    "# # 곡명 추출\n",
    "\n",
    "# singer = song.select('div.ellipsis > a')[0].text\n",
    "# # 가수명 추출\n",
    "\n",
    "# rank = song.select('span.rank')[0].text\n",
    "# # 순위 추출\n",
    "\n",
    "# print(title)\n",
    "# print(singer)\n",
    "# print(rank)\n",
    "\n",
    "song_data = []\n",
    "\n",
    "songs = soup.select('tr.lst50')\n",
    "\n",
    "for song in songs :\n",
    "    title = song.select('div.ellipsis > span > a')[0].text\n",
    "    singer = song.select('div.ellipsis > a')[0].text\n",
    "    rank = song.select('span.rank')[0].text\n",
    "\n",
    "    song_data.append(['Melon', rank, title, singer])\n",
    "\n",
    "print(song_data)\n",
    "\n",
    "df = pd.DataFrame(song_data, columns=['차트명', '순위', '타이틀', '가수'])\n",
    "\n",
    "df.to_excel('melon.xlsx', index=False)\n",
    "\n"
   ]
  },
  {
   "cell_type": "code",
   "execution_count": 11,
   "metadata": {},
   "outputs": [
    {
     "name": "stdout",
     "output_type": "stream",
     "text": [
      "Collecting openpyxl\n",
      "  Downloading openpyxl-3.0.10-py2.py3-none-any.whl (242 kB)\n"
     ]
    },
    {
     "name": "stderr",
     "output_type": "stream",
     "text": [
      "WARNING: You are using pip version 21.1.1; however, version 22.1.2 is available.\n",
      "You should consider upgrading via the 'c:\\users\\pc\\appdata\\local\\programs\\python\\python39\\python.exe -m pip install --upgrade pip' command.\n"
     ]
    },
    {
     "name": "stdout",
     "output_type": "stream",
     "text": [
      "Collecting et-xmlfile\n",
      "  Downloading et_xmlfile-1.1.0-py3-none-any.whl (4.7 kB)\n",
      "Installing collected packages: et-xmlfile, openpyxl\n",
      "Successfully installed et-xmlfile-1.1.0 openpyxl-3.0.10\n"
     ]
    }
   ],
   "source": [
    "!pip install openpyxl\n",
    "아까 벅스할  때는 잘 되었는데..."
   ]
  }
 ],
 "metadata": {
  "interpreter": {
   "hash": "c469c999aae2bf6d578d6881606ced546d1546d312a4811937df5b24665ee8bc"
  },
  "kernelspec": {
   "display_name": "Python 3.9.12 ('base')",
   "language": "python",
   "name": "python3"
  },
  "language_info": {
   "codemirror_mode": {
    "name": "ipython",
    "version": 3
   },
   "file_extension": ".py",
   "mimetype": "text/x-python",
   "name": "python",
   "nbconvert_exporter": "python",
   "pygments_lexer": "ipython3",
   "version": "3.9.5"
  },
  "orig_nbformat": 4
 },
 "nbformat": 4,
 "nbformat_minor": 2
}
