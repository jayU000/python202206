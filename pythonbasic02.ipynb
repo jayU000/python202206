{
  "nbformat": 4,
  "nbformat_minor": 0,
  "metadata": {
    "colab": {
      "name": "pythonbasic02.ipynb",
      "provenance": [],
      "collapsed_sections": [],
      "authorship_tag": "ABX9TyPZcr+2pXCP27f9IEp3v8LK",
      "include_colab_link": true
    },
    "kernelspec": {
      "name": "python3",
      "display_name": "Python 3"
    },
    "language_info": {
      "name": "python"
    }
  },
  "cells": [
    {
      "cell_type": "markdown",
      "metadata": {
        "id": "view-in-github",
        "colab_type": "text"
      },
      "source": [
        "<a href=\"https://colab.research.google.com/github/jayU000/python202206/blob/main/pythonbasic02.ipynb\" target=\"_parent\"><img src=\"https://colab.research.google.com/assets/colab-badge.svg\" alt=\"Open In Colab\"/></a>"
      ]
    },
    {
      "cell_type": "code",
      "execution_count": null,
      "metadata": {
        "colab": {
          "base_uri": "https://localhost:8080/",
          "height": 54
        },
        "id": "C0USPDG-0AAh",
        "outputId": "c1a63d11-c780-465b-cc71-fcd5f6ea7240"
      },
      "outputs": [
        {
          "name": "stdout",
          "output_type": "stream",
          "text": [
            "gfsag\n"
          ]
        },
        {
          "output_type": "execute_result",
          "data": {
            "text/plain": [
              "'gfsag'"
            ],
            "application/vnd.google.colaboratory.intrinsic+json": {
              "type": "string"
            }
          },
          "metadata": {},
          "execution_count": 1
        }
      ],
      "source": [
        "# input 입력\n",
        "\n",
        "input()"
      ]
    },
    {
      "cell_type": "code",
      "source": [
        "id = input('아이디를 입력하세요')"
      ],
      "metadata": {
        "colab": {
          "base_uri": "https://localhost:8080/"
        },
        "id": "BIQwOQw60HI2",
        "outputId": "b262bda9-75a5-462a-e2ed-49478d724196"
      },
      "execution_count": null,
      "outputs": [
        {
          "name": "stdout",
          "output_type": "stream",
          "text": [
            "아이디를 입력하세요fhakjd\n"
          ]
        }
      ]
    },
    {
      "cell_type": "code",
      "source": [
        "id = input('아이디를 입력하세요')\n",
        "print(f'{id}님 환영합니다.')"
      ],
      "metadata": {
        "colab": {
          "base_uri": "https://localhost:8080/"
        },
        "id": "Mj73lBA-0HLQ",
        "outputId": "e50ea2a6-f1b5-4d75-b5d9-1f6b3410106a"
      },
      "execution_count": null,
      "outputs": [
        {
          "output_type": "stream",
          "name": "stdout",
          "text": [
            "아이디를 입력하세요dfg\n",
            "dfg님 환영합니다.\n"
          ]
        }
      ]
    },
    {
      "cell_type": "code",
      "source": [
        "age = input('당신의 나이를 입력하세요')\n",
        "print(f'당신의 나이는 {age}살 입니다.')"
      ],
      "metadata": {
        "colab": {
          "base_uri": "https://localhost:8080/"
        },
        "id": "bVB3Kr7j0HNs",
        "outputId": "100c6cbc-46c6-42ac-d8f1-2fbd5d6e29c5"
      },
      "execution_count": null,
      "outputs": [
        {
          "output_type": "stream",
          "name": "stdout",
          "text": [
            "당신의 나이를 입력하세요12\n",
            "당신의 나이는 12입니다.\n"
          ]
        }
      ]
    },
    {
      "cell_type": "code",
      "source": [
        "age = int(input('당신의 나이를 입력하세요'))\n",
        "print(f'당신의 내년 나이는 {age+1}살 입니다.')"
      ],
      "metadata": {
        "colab": {
          "base_uri": "https://localhost:8080/"
        },
        "id": "H_z3Q_261ae0",
        "outputId": "86e40985-59ac-4978-9412-7105f5675176"
      },
      "execution_count": null,
      "outputs": [
        {
          "output_type": "stream",
          "name": "stdout",
          "text": [
            "당신의 나이를 입력하세요21\n",
            "당신의 내년 나이는 22살 입니다.\n"
          ]
        }
      ]
    },
    {
      "cell_type": "code",
      "source": [
        "age = int(input('당신의 나이를 입력하세요'))\n",
        "print(type(age))\n",
        "print(f'당신의 내년 나이는 {age+1}살 입니다.')\n",
        "\n",
        "# input 언제나 항상 입력받은 모든 데이터를 문자 취급한다.\n",
        "# 따라서 숫자로 사용을 하고자 할 때는 형변환 casting을 해주어야 계산이 가능해진다."
      ],
      "metadata": {
        "colab": {
          "base_uri": "https://localhost:8080/"
        },
        "id": "p3b4gdZ01ajs",
        "outputId": "268c125d-0d7b-471c-aa46-2bdefc18d28a"
      },
      "execution_count": null,
      "outputs": [
        {
          "output_type": "stream",
          "name": "stdout",
          "text": [
            "당신의 나이를 입력하세요12\n",
            "당신의 내년 나이는 13살 입니다.\n"
          ]
        }
      ]
    },
    {
      "cell_type": "code",
      "source": [
        "# 컬렉션 list tuple dict set                   *** dataframe from pandas\n",
        "#        <------ 기본 ------>                            심화\n",
        "#         []   ()   {}\n",
        "\n",
        "# 여러 개의 데이터를 담아두는 자료형\n",
        "\n",
        "# 리스트 list\n",
        "# 1. 리스트는 []를 사용하여 만든다.\n",
        "# 2. 리스트는 자료형을 혼합하여 저장할 수도 있다. -> 프로그래밍에서 오류가 생길 확률이 증가해서 단점으로도 작용한다.\n",
        "# 3. 리스트는 인덱싱과 슬라이싱이 가능하다.\n",
        "# 4. 리스트는 삽입/삭제/수정이 가능하다.\n",
        "\n",
        "\n",
        "# 리스트를 사용하면 2,4,6,8,10... 여러 데이터를 모음을 간단하게 표현할 수 있다.\n",
        "num = [2,4,6,8,10]\n",
        "print(num)\n",
        "print(type(num))\n",
        "\n",
        "li1 = [1,2,'영희', '철수']\n",
        "print(li1)\n",
        "\n"
      ],
      "metadata": {
        "colab": {
          "base_uri": "https://localhost:8080/"
        },
        "id": "3IehLxqZ1amF",
        "outputId": "e8099267-2a2c-46f0-c559-0e9b6332af0b"
      },
      "execution_count": null,
      "outputs": [
        {
          "output_type": "stream",
          "name": "stdout",
          "text": [
            "[2, 4, 6, 8, 10]\n",
            "<class 'list'>\n",
            "[1, 2, '영희', '철수']\n"
          ]
        }
      ]
    },
    {
      "cell_type": "code",
      "source": [
        "# 리스트에서의 인덱싱과 슬라이싱\n",
        "\n",
        "num = [2,4,6,8,10]\n",
        "print(num[0])\n",
        "print(num[-1])\n",
        "print(num[0]+num[-1])"
      ],
      "metadata": {
        "colab": {
          "base_uri": "https://localhost:8080/"
        },
        "id": "nn-MeAym1aqU",
        "outputId": "3fac3327-38d9-4b00-d3e3-768cda23d01b"
      },
      "execution_count": null,
      "outputs": [
        {
          "output_type": "stream",
          "name": "stdout",
          "text": [
            "2\n",
            "10\n",
            "12\n"
          ]
        }
      ]
    },
    {
      "cell_type": "code",
      "source": [
        "li1 = [1,2,'a','b',[1,2,3]]\n",
        "\n",
        "print(li1[-1])\n",
        "print(li1[-1][0])"
      ],
      "metadata": {
        "colab": {
          "base_uri": "https://localhost:8080/"
        },
        "id": "qwNFzrI487Xu",
        "outputId": "143e76f0-9b84-4615-985f-2b7fb2aa972c"
      },
      "execution_count": null,
      "outputs": [
        {
          "output_type": "stream",
          "name": "stdout",
          "text": [
            "[1, 2, 3]\n",
            "1\n"
          ]
        }
      ]
    },
    {
      "cell_type": "code",
      "source": [
        "# 리스트에서의 슬라이싱\n",
        "\n",
        "num = [2,4,6,8,10]\n",
        "\n",
        "print(num[0:3])   # [start:stop:step]  스텝은 생략하면 1씩 증감 \n",
        "print(num[:3])    # 시작을 생략하면 처음부터 시작하고, 끝을 생략하면 마지막 요소까지\n",
        "\n"
      ],
      "metadata": {
        "colab": {
          "base_uri": "https://localhost:8080/"
        },
        "id": "WtZodIJ-87aQ",
        "outputId": "94335e9f-22e3-4457-830b-75c856e32fd1"
      },
      "execution_count": null,
      "outputs": [
        {
          "output_type": "stream",
          "name": "stdout",
          "text": [
            "[2, 4, 6]\n",
            "[2, 4, 6]\n"
          ]
        }
      ]
    },
    {
      "cell_type": "code",
      "source": [
        "# 리스트에서의 연산\n",
        "\n",
        "a = [1,2,3]\n",
        "print(a * 3)\n",
        "\n",
        "\n",
        "# 리스트의 길이(갯수)\n",
        "\n",
        "num = [2,4,6,8,10]\n",
        "print(len(num))\n",
        "\n",
        "\n",
        "# 4. 리스트는 삽입/삭제/수정이 가능하다.\n",
        "\n",
        "# 수정\n",
        "num = [2,4,6,8,10]\n",
        "num[0] = 0\n",
        "print(num)\n",
        "\n",
        "# 삭제\n",
        "del num[0]\n",
        "print(num)\n",
        "del num[2:]\n",
        "print(num)\n",
        "num = [2,4,6,8,10]\n",
        "num.pop()       # 마지막 항을 하나씩 제거, 괄호 안에 인덱스 넣어주면 그 인덱스값을 가진 요소를 삭제\n",
        "print(num)\n",
        "\n",
        "# 삽입 append, insert\n",
        "a = [1,2,3]\n",
        "print(a)\n",
        "a.append(4)\n",
        "print(a)\n",
        "a.append('글자')\n",
        "print(a)\n",
        "a.insert(0,0)   # (위치, 값)\n",
        "print(a)\n",
        "\n"
      ],
      "metadata": {
        "colab": {
          "base_uri": "https://localhost:8080/"
        },
        "id": "vNz-3ZKo87cR",
        "outputId": "808814a8-cbee-4c93-f3b9-927411799c67"
      },
      "execution_count": null,
      "outputs": [
        {
          "output_type": "stream",
          "name": "stdout",
          "text": [
            "[1, 2, 3, 1, 2, 3, 1, 2, 3]\n",
            "5\n",
            "[0, 4, 6, 8, 10]\n",
            "[4, 6, 8, 10]\n",
            "[4, 6]\n",
            "[2, 4, 6, 8]\n",
            "[1, 2, 3]\n",
            "[1, 2, 3, 4]\n",
            "[1, 2, 3, 4, '글자']\n",
            "[0, 1, 2, 3, 4, '글자']\n"
          ]
        }
      ]
    },
    {
      "cell_type": "code",
      "source": [
        "# 튜플 tuple\n",
        "# 1. 튜플은 ()를 사용하여 만든다.\n",
        "# 2. 튜플도 자료형을 혼합하여 저장할 수도 있다. -> 프로그래밍에서 오류가 생길 확률이 증가해서 단점으로도 작용한다.\n",
        "# 3. 튜플도 인덱싱과 슬라이싱이 가능하다.\n",
        "# 4. 튜플은 삽입/삭제/수정이 불가능하다.  immutable\n",
        "# 5. 튜플은 한 개의 요소로 만들 때는 괜히 ,를 넣는다\n",
        "\n",
        "# 1. 튜플은 ()를 사용하여 만든다.\n",
        "t1 = (1,2,3)\n",
        "print(type(t1))\n",
        "\n",
        "# 2. 튜플도 자료형을 혼합하여 저장할 수도 있다. -> 프로그래밍에서 오류가 생길 확률이 증가해서 단점으로도 작용한다.\n",
        "t2 = (1,2,'a','b')\n",
        "print(t2)\n",
        "\n",
        "# 3. 튜플도 인덱싱이 가능하다.\n",
        "print(t2[0])\n",
        "print(t2[-1])\n",
        "\n",
        "# 3. 튜플도 슬라이싱이 가능하다.\n",
        "print(t2[2:])\n",
        "print(t2[:2])\n",
        "\n",
        "# 4. 튜플은 삽입/삭제/수정이 불가능하다.  immutable\n",
        "#t2.append('c')\n",
        "#t2.pop()\n",
        "#t2[0] = 0\n",
        "print(len(t2))\n",
        "\n",
        "# 5. 튜플은 한 개의 요소로 만들 때는 괜히 ,를 넣는다\n",
        "t3 = (1)\n",
        "print(t3)\n",
        "print(type(t3))\n",
        "t4 = (1,)\n",
        "print(t4)\n",
        "print(type(t4))"
      ],
      "metadata": {
        "colab": {
          "base_uri": "https://localhost:8080/"
        },
        "id": "dA52knLbCdOK",
        "outputId": "13142b73-056e-4382-9b81-ba0554cf2747"
      },
      "execution_count": null,
      "outputs": [
        {
          "output_type": "stream",
          "name": "stdout",
          "text": [
            "<class 'tuple'>\n",
            "(1, 2, 'a', 'b')\n",
            "1\n",
            "b\n",
            "('a', 'b')\n",
            "(1, 2)\n",
            "4\n",
            "1\n",
            "<class 'int'>\n",
            "(1,)\n",
            "<class 'tuple'>\n"
          ]
        }
      ]
    },
    {
      "cell_type": "code",
      "source": [
        "\n",
        "bts = ['정국','진','뷔','RM','지민','제이홉','슈가']\n",
        "print(bts)\n",
        "\n",
        "bts.append('길동')\n",
        "print(bts)\n",
        "\n",
        "bts.pop()\n",
        "print(bts)\n",
        "\n",
        "nums = [1,2,3,4,5]\n",
        "print(f'nums 리스트에서의 최대값은 {max(nums)}입니다')\n",
        "print(f'nums 리스트에서의 최소값은 {min(nums)}입니다')\n",
        "\n",
        "\n",
        "print(f'nums 리스트에서의 평균은 {sum(nums)/len(nums)}입니다')\n",
        "\n",
        "price = ['20220602', 100, 300, 200]\n",
        "\n",
        "print(price[1:])\n",
        "\n",
        "nums = [1,2,3,4,5,6,7,8,9,10]\n",
        "print(nums[1::2])\n",
        "print(nums[::-1])\n",
        "\n",
        "s = '삼성 엘지 sk'\n",
        "ss = '삼성/엘지/sk'\n",
        "li1 = ss.split()\n",
        "li2 = ss.split('/')\n",
        "print(li1)\n",
        "print(li2)\n",
        "\n",
        "for i in \n",
        "\n",
        "\n"
      ],
      "metadata": {
        "colab": {
          "base_uri": "https://localhost:8080/"
        },
        "id": "hIrgZaYgJbCW",
        "outputId": "07069c18-13fb-478e-a876-3d60051b34ed"
      },
      "execution_count": null,
      "outputs": [
        {
          "output_type": "stream",
          "name": "stdout",
          "text": [
            "['정국', '진', '뷔', 'RM', '지민', '제이홉', '슈가']\n",
            "['정국', '진', '뷔', 'RM', '지민', '제이홉', '슈가', '길동']\n",
            "['정국', '진', '뷔', 'RM', '지민', '제이홉', '슈가']\n",
            "nums 리스트에서의 최대값은 5입니다\n",
            "nums 리스트에서의 최소값은 1입니다\n",
            "nums 리스트에서의 평균은 3.0입니다\n",
            "[100, 300, 200]\n",
            "[2, 4, 6, 8, 10]\n",
            "[10, 9, 8, 7, 6, 5, 4, 3, 2, 1]\n",
            "['삼성', '엘지']\n"
          ]
        }
      ]
    },
    {
      "cell_type": "code",
      "source": [
        "# 딕셔너리 dict\n",
        "# 1. 딕셔너리는 {}를 사용하여 만든다.\n",
        "# 2. 딕셔너리는 자료형을 혼합하여 저장할 수도 있다. -> 프로그래밍에서 오류가 생길 확률이 증가해서 단점으로도 작용한다.\n",
        "# 3. 딕셔너리는 인덱싱과 슬라이싱이 불가능하다.\n",
        "# 4. 딕셔너리는 삽입/삭제/수정이 가능하다.  mutable\n",
        "# 5. 딕셔너리는 키값과 밸류값의 쌍으로 구성된다. (자바의 맵과 유사, JS의 JSON)\n",
        "\n",
        "# 1. 딕셔너리는 {}를 사용하여 만든다.\n",
        "a = {1:'hello', 2:'hi',3:'hey'}\n",
        "print(type(a))\n",
        "print(a)\n",
        "\n",
        "# 2. 딕셔너리는 자료형을 혼합하여 저장할 수도 있다.\n",
        "b = {'name':'Alice', 'age':21, 'gender':'F'}\n",
        "print(b)\n",
        "\n",
        "# 3. 딕셔너리는 순서가 없기 때문에 indexing과 slicing이 불가능하다.\n",
        "# 딕셔너리는 순서가 없기 때문에 입력순서와 출력순서가 다를 수 있다.\n",
        "# 따라서 키 값으로만 밸류값을 꺼낼 수 있다.\n",
        "#b[0]         # 불가능\n",
        "print(b['name'])     # 가능\n",
        "\n",
        "# 4. 딕셔너리는 삽입/삭제/수정이 가능하다.  mutable\n",
        "print(b)\n",
        "del b['age']\n",
        "print(b)\n",
        "b['age2'] = 31\n",
        "print(b)\n",
        "b['age2'] = 25\n",
        "print(b)\n",
        "\n",
        "# 딕셔너리 관련 많이 사용되는 함수들 \n",
        "\n",
        "# keys\n",
        "print(b.keys())\n",
        "\n",
        "# values\n",
        "print(b.values())\n",
        "# items\n",
        "print(b.items())\n"
      ],
      "metadata": {
        "colab": {
          "base_uri": "https://localhost:8080/"
        },
        "id": "HHIJwvRDPtYQ",
        "outputId": "be09573d-a334-4537-8f53-e40c97cd128a"
      },
      "execution_count": null,
      "outputs": [
        {
          "output_type": "stream",
          "name": "stdout",
          "text": [
            "<class 'dict'>\n",
            "{1: 'hello', 2: 'hi', 3: 'hey'}\n",
            "{'name': 'Alice', 'age': 21, 'gender': 'F'}\n",
            "Alice\n",
            "{'name': 'Alice', 'age': 21, 'gender': 'F'}\n",
            "{'name': 'Alice', 'gender': 'F'}\n",
            "{'name': 'Alice', 'gender': 'F', 'age2': 31}\n",
            "{'name': 'Alice', 'gender': 'F', 'age2': 25}\n",
            "dict_keys(['name', 'gender', 'age2'])\n",
            "dict_values(['Alice', 'F', 25])\n",
            "dict_items([('name', 'Alice'), ('gender', 'F'), ('age2', 25)])\n"
          ]
        }
      ]
    },
    {
      "cell_type": "code",
      "source": [
        "# 셋 set\n",
        "# 1. 셋은 {}를 사용하여 만든다.\n",
        "# 2. 셋은 자료형을 혼합하여 저장할 수도 있다. (파이썬 장점이자 단점)    -> 프로그래밍에서 오류가 생길 확률이 증가해서 단점으로도 작용한다.\n",
        "# 3. 셋은 인덱싱과 슬라이싱이 불가능하다. 순서가 없다 uordered\n",
        "# 4. 셋은 삽입/삭제/수정이 가능하다. mutable\n",
        "# 5. 셋은 중복값을 허용하지 않는다.\n",
        "\n",
        "\n",
        "# 1. 셋은 {}를 사용하여 만든다.\n",
        "s1 = {1,2,3}\n",
        "print(type(s1))\n",
        "\n",
        "s2 = set(\"hello\")\n",
        "print(s2)\n",
        "\n",
        "# 2. 셋은 자료형을 혼합하여 저장할 수도 있다. (파이썬 장점이자 단점)\n",
        "s4 = {1,2,3,'1','hi'}\n",
        "print(s4)\n",
        "\n",
        "# 3. 셋은 인덱싱과 슬라이싱이 불가능하다. 순서가 없다 uordered\n",
        "# s4[0] -> (x)\n",
        "s5 = {1,1,1,2,2,3,'1','하나'}\n",
        "l5 = list(s5)\n",
        "print(l5)\n",
        "\n",
        "# 4. 셋은 삽입/삭제/수정이 가능하다. mutable \n",
        "\n",
        "# 삽입\n",
        "s6 = {1,1,1,2,2,3,'1','하나'}\n",
        "s6.add('둘')\n",
        "print(s6)\n",
        "# 삭제 \n",
        "s6.remove(2)    # 삭제할 데이터의 값을 괄호 안에 \n",
        "print(s6)\n",
        "# 수정    삭제 -> 삽입    or    리스트로 강제 형변환 -> 수정 후 다시 형변환\n",
        "\n",
        "\n",
        "# 5. 셋은 중복값을 허용하지 않는다.\n",
        "s3 = {1,1,1,2,2,3}\n",
        "print(s3)\n",
        "\n"
      ],
      "metadata": {
        "colab": {
          "base_uri": "https://localhost:8080/"
        },
        "id": "PpiWC6EmJbP7",
        "outputId": "294800ae-b097-4ee0-e0ad-afa15c71fd7b"
      },
      "execution_count": null,
      "outputs": [
        {
          "output_type": "stream",
          "name": "stdout",
          "text": [
            "<class 'set'>\n",
            "{'e', 'l', 'o', 'h'}\n",
            "{1, 2, 3, '1', 'hi'}\n",
            "[1, 2, 3, '1', '하나']\n",
            "{1, 2, 3, '1', '둘', '하나'}\n",
            "{1, 3, '1', '둘', '하나'}\n",
            "{1, 2, 3}\n"
          ]
        }
      ]
    },
    {
      "cell_type": "code",
      "source": [
        "# if \n",
        "\n",
        "# if 조건식:\n",
        "#   첨인 경우\n",
        "# else:\n",
        "#   거짓인 경우\n",
        "\n",
        "# if문 예제 1\n",
        "money = 2000\n",
        "if money >= 3000 :\n",
        "  print('택시 타라')  # true case\n",
        "else :\n",
        "  print('걸어 가라')  # false case\n",
        "\n",
        "money = 2000\n",
        "card = True\n",
        "if money >= 3000 or card:   # or: 주어진 조건 중 하나만 true면 OK\n",
        "  print('택시 타라')  # true case\n",
        "else :\n",
        "  print('걸어 가라')  # false case\n",
        "\n",
        "\n",
        "# 조건문 사용 방법 1\n",
        "print(1 in [1,2,3])\n",
        "print(4 in [1,2,3])\n",
        "\n",
        "\n",
        "# if문 예제 2\n",
        "pocket = ['paper', 'phone', 'money']\n",
        "card = True\n",
        "\n",
        "if 'money' in pocket :\n",
        "  print('택시 타라')  # true case\n",
        "else :\n",
        "  if card:\n",
        "    print('버스 타라')  # true case\n",
        "  else :\n",
        "    print('걸어 가라')  # false case\n",
        "# 분기가 여러개일 경우 if문 안에 if문을 중첩하여 사용할 수는 있지만\n",
        "# 권장하지 않는다.\n",
        "# if 안에 if문을 만드는 것은 가독성이 떨어져서 아주 좋지 않은 방법이다.\n",
        "# 따라서 분기가 여러 개일 경우 elif를 사용하자\n",
        "\n",
        "\n",
        "# if문 예제 3-1\n",
        "pocket = ['paper', 'phone']\n",
        "card = True\n",
        "if 'money' in pocket :\n",
        "  print('택시 타라')  # true case\n",
        "elif card:\n",
        "  print('버스 타라')  # true case\n",
        "else :\n",
        "  print('걸어 가라')  # false case\n",
        "\n",
        "# if문 예제 3-2\n",
        "pocket = ['paper', 'phone']\n",
        "card = False\n",
        "if 'money' in pocket : print('택시 타라')  # true case\n",
        "elif card : print('버스 타라')  # true case\n",
        "else : print('걸어 가라')  # false case\n",
        "\n",
        "\n",
        "# if문 예제 4-1\n",
        "score = 90\n",
        "if score >= 60 :\n",
        "  print(\"합격\")\n",
        "else : \n",
        "  print(\"불합격\")\n",
        "\n",
        "# if문 예제 4-2\n",
        "if score >= 60 :\n",
        "  print(\"합격\")\n",
        "else : \n",
        "  print(\"불합격\")\n",
        "\n",
        "# if문 예제 4-3   # 조건부 표현식 : 한 줄로 조건식을 표현\n",
        "print(\"합격\")     if score >= 60      else print(\"불합격\")\n",
        "# 참의 경우          조건식              거짓의 경우\n",
        "\n",
        "\n",
        "if True :\n",
        "  print('1')\n",
        "  print('2')\n",
        "else :\n",
        "  print('3')\n",
        "print('4')\n"
      ],
      "metadata": {
        "colab": {
          "base_uri": "https://localhost:8080/"
        },
        "id": "Nm7TyjNxnel5",
        "outputId": "5f4451ad-c1ca-46fe-b957-148fde107f04"
      },
      "execution_count": null,
      "outputs": [
        {
          "output_type": "stream",
          "name": "stdout",
          "text": [
            "걸어 가라\n",
            "택시 타라\n",
            "True\n",
            "False\n",
            "택시 타라\n",
            "버스 타라\n",
            "걸어 가라\n",
            "합격\n",
            "합격\n",
            "합격\n",
            "1\n",
            "2\n",
            "4\n"
          ]
        }
      ]
    },
    {
      "cell_type": "code",
      "source": [
        "a = int(input('숫자 입력'))\n",
        "# if a % 2 == 1 :\n",
        "#   print('홀수')\n",
        "# else :\n",
        "#   print('짝수')\n",
        "\n",
        "print('홀수') if a % 2 == 1 else print('짝수')\n",
        "\n",
        "# % 나머지 연산자로 홀수/짝수/배수를 알아낼 수 있다.\n",
        "\n"
      ],
      "metadata": {
        "colab": {
          "base_uri": "https://localhost:8080/"
        },
        "id": "Y1l8Vi3RneoK",
        "outputId": "c64fc4a6-09fe-4fdb-c9e5-1a86f1c518fb"
      },
      "execution_count": null,
      "outputs": [
        {
          "output_type": "stream",
          "name": "stdout",
          "text": [
            "2\n",
            "짝수\n"
          ]
        }
      ]
    },
    {
      "cell_type": "code",
      "source": [
        "a = int(input('숫자 입력'))\n",
        "\n",
        "if a <= 235 : \n",
        "  print(a+20)\n",
        "else :\n",
        "  print(255)"
      ],
      "metadata": {
        "colab": {
          "base_uri": "https://localhost:8080/"
        },
        "id": "NtTtmlb75Gwm",
        "outputId": "6845653f-7afa-4c20-9774-7bf74b5eb037"
      },
      "execution_count": null,
      "outputs": [
        {
          "output_type": "stream",
          "name": "stdout",
          "text": [
            "숫자 입력340\n",
            "255\n"
          ]
        }
      ]
    },
    {
      "cell_type": "code",
      "source": [
        "a = int(input('숫자 입력'))\n",
        "result = a - 20\n",
        "\n",
        "if result > 255:\n",
        "  print(255)\n",
        "elif result < 0 :\n",
        "  print(0)\n",
        "else :\n",
        "  print(result)\n",
        "\n",
        "a = int(input('숫자 입력')) - 20\n",
        "\n",
        "if result > 255: print(255)\n",
        "elif result < 0 : print(0)\n",
        "else : print(result)\n"
      ],
      "metadata": {
        "colab": {
          "base_uri": "https://localhost:8080/"
        },
        "id": "nfieZ-2V6z1E",
        "outputId": "d22f1281-b814-4661-a5a8-4a84690ef837"
      },
      "execution_count": null,
      "outputs": [
        {
          "output_type": "stream",
          "name": "stdout",
          "text": [
            "숫자 입력60\n",
            "40\n",
            "숫자 입력200\n",
            "40\n"
          ]
        }
      ]
    },
    {
      "cell_type": "code",
      "source": [
        "# from datetime import datetime\n",
        "# now = datetime.now()\n",
        "# print(now)\n",
        "# print(type(now.hour))\n",
        "\n",
        "# time = input('현재 시각 :')\n",
        "# h = int(time[0:2])\n",
        "# m = int(time[3:])\n",
        "\n",
        "# if now.hour == h and now.minute == m :\n",
        "#   print('정각입니다')\n",
        "# else :\n",
        "#     print('정각이 아닙니다')\n",
        "\n",
        "time = input('현재 시간 :')\n",
        "m = int(time[3:])\n",
        "\n",
        "if m == 0 :\n",
        "  print('정각입니다')\n",
        "else :\n",
        "    print('정각이 아닙니다')\n"
      ],
      "metadata": {
        "colab": {
          "base_uri": "https://localhost:8080/"
        },
        "id": "C4Jjl6uL7zpr",
        "outputId": "17e4a07d-3a38-4241-da48-2000b9915891"
      },
      "execution_count": null,
      "outputs": [
        {
          "output_type": "stream",
          "name": "stdout",
          "text": [
            "2022-06-02 05:57:41.379833\n",
            "<class 'int'>\n",
            "현재 시각 :05:57\n",
            "정각입니다\n"
          ]
        }
      ]
    },
    {
      "cell_type": "code",
      "source": [
        "n1 = int(input('Enter the first number : '))\n",
        "n2 = int(input('Enter the second number : '))\n",
        "\n",
        "if n1 > n2 :\n",
        "  print(n2, n1)\n",
        "elif n2 > n1 :\n",
        "  print(n1, n2)\n",
        "else :\n",
        "  print('다시 실행하세요')"
      ],
      "metadata": {
        "colab": {
          "base_uri": "https://localhost:8080/"
        },
        "id": "DNo5zYfv_lOF",
        "outputId": "062a3bc0-1646-4c52-d30d-49280e65c3f3"
      },
      "execution_count": null,
      "outputs": [
        {
          "output_type": "stream",
          "name": "stdout",
          "text": [
            "Enter the first number : 3\n",
            "Enter the second number : 5\n",
            "3 5\n"
          ]
        }
      ]
    },
    {
      "cell_type": "markdown",
      "source": [
        ""
      ],
      "metadata": {
        "id": "MSTJJ3wCBsFT"
      }
    },
    {
      "cell_type": "code",
      "source": [
        "num = int(input('Enter the number under 20 : '))\n",
        "\n",
        "if num >= 20 :\n",
        "  print('Too high')\n",
        "else : \n",
        "  print('Thank you')"
      ],
      "metadata": {
        "colab": {
          "base_uri": "https://localhost:8080/"
        },
        "id": "bnszxOP2BUay",
        "outputId": "0279fd78-5db2-4c24-8e21-48bb153c463c"
      },
      "execution_count": null,
      "outputs": [
        {
          "output_type": "stream",
          "name": "stdout",
          "text": [
            "Enter the number : 19\n",
            "Thank you\n"
          ]
        }
      ]
    },
    {
      "cell_type": "code",
      "source": [
        "col = input('Enter your foavorite color : ')\n",
        "red = ['red', 'RED', 'Red']\n",
        "if col in red :\n",
        "  print('\"I like red too\"')\n",
        "else : \n",
        "  print(f\"I don't like {col}, I prefer red.\\\" \")\n",
        "\n"
      ],
      "metadata": {
        "colab": {
          "base_uri": "https://localhost:8080/"
        },
        "id": "gb_KTRXKCAlp",
        "outputId": "e13de9dc-f87f-434f-d132-bfc0265b3e3e"
      },
      "execution_count": null,
      "outputs": [
        {
          "output_type": "stream",
          "name": "stdout",
          "text": [
            "Enter your foavorite color : black\n",
            "I don't like black, I prefer red.\" \n"
          ]
        }
      ]
    },
    {
      "cell_type": "code",
      "source": [
        "age = int(input('Enter your age : '))\n",
        "if age >= 18 : print(\"You can vote\")\n",
        "elif age == 17 : print(\"You can learn to drive\")\n",
        "elif age == 16 : print(\"You can buy lottery tickets\")  \n",
        "else : print(\"You can go Trick-or-Treating\")  \n",
        "\n"
      ],
      "metadata": {
        "colab": {
          "base_uri": "https://localhost:8080/"
        },
        "id": "sjt2kD7tEQuH",
        "outputId": "2eab3d7f-b8e4-472b-d021-596d254c4c55"
      },
      "execution_count": null,
      "outputs": [
        {
          "output_type": "stream",
          "name": "stdout",
          "text": [
            "Enter your age : 17\n",
            "You can learn to drive\n"
          ]
        }
      ]
    },
    {
      "cell_type": "code",
      "source": [
        "num = int(input('Enter the number 1, 2 or 3 : '))\n",
        "\n",
        "if num == 1 : print('Thank you')\n",
        "elif num == 2 :  print('Well done')\n",
        "elif num == 3 :  print('Correct')\n",
        "else : print('Error message')\n",
        "\n"
      ],
      "metadata": {
        "id": "I3BLTpZeF8sY"
      },
      "execution_count": null,
      "outputs": []
    },
    {
      "cell_type": "code",
      "source": [
        "fn = input('What your first name? : ')\n",
        "print(len(fn))"
      ],
      "metadata": {
        "colab": {
          "base_uri": "https://localhost:8080/"
        },
        "id": "xJ8-jCttHGHU",
        "outputId": "0f5b112e-1abe-4f1e-be0e-0dbf87b54528"
      },
      "execution_count": null,
      "outputs": [
        {
          "output_type": "stream",
          "name": "stdout",
          "text": [
            "What your first name? : dndf\n",
            "4\n"
          ]
        }
      ]
    },
    {
      "cell_type": "code",
      "source": [
        "word = input('Type something >>> ')\n",
        "print(word.upper())\n",
        "\n"
      ],
      "metadata": {
        "colab": {
          "base_uri": "https://localhost:8080/"
        },
        "id": "jNtDd1osHcOO",
        "outputId": "9eb58f24-85f6-4edf-9dd6-a4c21b98fd1d"
      },
      "execution_count": null,
      "outputs": [
        {
          "output_type": "stream",
          "name": "stdout",
          "text": [
            "Enter the word : name\n",
            "NAME\n"
          ]
        }
      ]
    },
    {
      "cell_type": "code",
      "source": [
        "ori = input('Type any word : ').lower()\n",
        "pre = ori.append(ori[0])\n",
        "del pre[0]\n",
        "\n",
        "vowel = ['a','e','i','o','u','y','w']\n",
        "\n",
        "for i in range(len(word)) :\n",
        "  if word[i] in vowel and i != len(word)-1 :\n",
        "    continue\n",
        "  elif  word[i] in vowel and i == len(word)-1:\n",
        "    word = pre + 'way'\n",
        "  else : \n",
        "    word = pre + 'ay'\n",
        "    break\n",
        "\n",
        "print(result)\n",
        "\n",
        "\n"
      ],
      "metadata": {
        "colab": {
          "base_uri": "https://localhost:8080/"
        },
        "id": "23UcjkEbIboF",
        "outputId": "f8aeabcb-f995-44ab-f77e-63f5a48f067d"
      },
      "execution_count": null,
      "outputs": [
        {
          "output_type": "stream",
          "name": "stdout",
          "text": [
            "Type any word : way\n",
            "yawway\n"
          ]
        }
      ]
    }
  ]
}